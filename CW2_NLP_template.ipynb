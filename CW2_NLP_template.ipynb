{
 "cells": [
  {
   "cell_type": "markdown",
   "metadata": {},
   "source": [
    "# CW2: Natural Language Processing: Classification of News Articles\n",
    "This coursework extends Lab 8, using the content of news articles to classify them into one of the 4 following categories: `World, Sports, Business, Sci/Tech`.\n",
    "\n",
    "The original data source is http://groups.di.unipi.it/~gulli/AG_corpus_of_news_articles.html. You do not need to download the data from those websites, it has been made available on GCU learn in the compressed file 'news_dataset.zip', you simply need to download and extract it. You'll get files *train.csv* and *test.csv*. Place them in the same folder as this notebook (or change the path in `pd.read_csv()` accordingly).\n",
    "\n",
    "Import Conda environmet `lab8_NLP_news.yml`."
   ]
  },
  {
   "cell_type": "code",
   "execution_count": 49,
   "metadata": {},
   "outputs": [
    {
     "name": "stdout",
     "output_type": "stream",
     "text": [
      "Collecting TBB\n",
      "  Using cached tbb-2021.10.0-py2.py3-none-macosx_10_15_x86_64.macosx_11_0_x86_64.whl (640 kB)\n",
      "Installing collected packages: TBB\n",
      "Successfully installed TBB-2021.10.0\n"
     ]
    }
   ],
   "source": [
    "!pip install --upgrade --ignore-installed TBB\n"
   ]
  },
  {
   "cell_type": "code",
   "execution_count": 50,
   "metadata": {},
   "outputs": [
    {
     "name": "stdout",
     "output_type": "stream",
     "text": [
      "Requirement already satisfied: scipy in /Users/mac/opt/anaconda3/lib/python3.9/site-packages (1.11.4)\n",
      "Requirement already satisfied: numba in /Users/mac/opt/anaconda3/lib/python3.9/site-packages (0.54.1)\n",
      "Collecting numba\n",
      "  Using cached numba-0.58.1-cp39-cp39-macosx_10_9_x86_64.whl (2.6 MB)\n",
      "Requirement already satisfied: daal4py in /Users/mac/opt/anaconda3/lib/python3.9/site-packages (2021.3.0)\n",
      "Collecting daal4py\n",
      "  Using cached daal4py-2023.2.1-py39-none-macosx_10_15_x86_64.macosx_11_0_x86_64.whl (2.7 MB)\n",
      "Requirement already satisfied: numpy<1.28.0,>=1.21.6 in /Users/mac/opt/anaconda3/lib/python3.9/site-packages (from scipy) (1.26.2)\n",
      "Collecting llvmlite<0.42,>=0.41.0dev0\n",
      "  Using cached llvmlite-0.41.1-cp39-cp39-macosx_10_9_x86_64.whl (31.0 MB)\n",
      "Collecting daal==2023.2.1\n",
      "  Using cached daal-2023.2.1-py2.py3-none-macosx_10_15_x86_64.macosx_11_0_x86_64.whl (40.9 MB)\n",
      "Requirement already satisfied: tbb==2021.* in /Users/mac/opt/anaconda3/lib/python3.9/site-packages (from daal==2023.2.1->daal4py) (2021.10.0)\n",
      "Installing collected packages: llvmlite, daal, numba, daal4py\n",
      "  Attempting uninstall: llvmlite\n",
      "    Found existing installation: llvmlite 0.37.0\n",
      "    Uninstalling llvmlite-0.37.0:\n",
      "      Successfully uninstalled llvmlite-0.37.0\n",
      "  Attempting uninstall: numba\n",
      "    Found existing installation: numba 0.54.1\n",
      "    Uninstalling numba-0.54.1:\n",
      "      Successfully uninstalled numba-0.54.1\n",
      "  Attempting uninstall: daal4py\n",
      "    Found existing installation: daal4py 2021.3.0\n",
      "    Uninstalling daal4py-2021.3.0:\n",
      "      Successfully uninstalled daal4py-2021.3.0\n",
      "Successfully installed daal-2023.2.1 daal4py-2023.2.1 llvmlite-0.41.1 numba-0.58.1\n"
     ]
    }
   ],
   "source": [
    "!pip install --upgrade scipy numba daal4py\n"
   ]
  },
  {
   "cell_type": "code",
   "execution_count": 4,
   "metadata": {},
   "outputs": [],
   "source": [
    "import numpy as np\n",
    "import matplotlib.pyplot as plt\n",
    "import pandas as pd\n",
    "import re\n",
    "import seaborn as sns\n",
    "import nltk\n",
    "from nltk.corpus import stopwords\n",
    "from sklearn.metrics import confusion_matrix, classification_report, accuracy_score, classification_report\n",
    "from sklearn.model_selection import train_test_split\n",
    "from tensorflow.keras.layers import (\n",
    "    TextVectorization,\n",
    "    Embedding,\n",
    "    LSTM,\n",
    "    Bidirectional,\n",
    "    Dense,\n",
    "    Embedding,\n",
    "    Conv1D, \n",
    "    GlobalMaxPooling1D\n",
    ")\n",
    "import tensorflow.keras\n",
    "from tensorflow.keras.models import Sequential\n",
    "from sklearn.feature_selection import SelectKBest, f_classif\n",
    "from sklearn.feature_extraction.text import TfidfVectorizer\n",
    "from sklearn.neighbors import KNeighborsClassifier"
   ]
  },
  {
   "cell_type": "markdown",
   "metadata": {},
   "source": [
    "# 1. Data preparation\n",
    "Import data. "
   ]
  },
  {
   "cell_type": "code",
   "execution_count": 5,
   "metadata": {},
   "outputs": [],
   "source": [
    "# Importing the dataset. As done in lab 4, you usually have a look at the data. Here we simply show the first 5 rows\n",
    "#train_data = pd.read_csv(\"train.csv\")\n",
    "#test_data = pd.read_csv(\"test.csv\")\n",
    "#print(train_data.head(5))\n",
    "import pandas as pd\n",
    "try:\n",
    "    # Load the dataset\n",
    "    train_data = pd.read_csv(\"train.csv\")\n",
    "    test_data = pd.read_csv(\"test.csv\")\n",
    "except FileNotFoundError:\n",
    "    print(\"Files not found. Please check the file paths.\")\n",
    "    # Exit if files not found to avoid further errors\n",
    "    raise\n",
    "    \n"
   ]
  },
  {
   "cell_type": "markdown",
   "metadata": {},
   "source": [
    "Change labels from 1-4 to 0-3"
   ]
  },
  {
   "cell_type": "code",
   "execution_count": 6,
   "metadata": {},
   "outputs": [],
   "source": [
    "# substract 1 from the target variable for both, train and test data\n",
    "train_data[\"Class Index\"] = train_data[\"Class Index\"] - 1\n",
    "test_data[\"Class Index\"] = test_data[\"Class Index\"] - 1\n",
    "label_names = [\"World\", \"Sports\", \"Business\", \"Sci/Tech\"] # 0 is \"World\", 1 is \"Sports\", ..."
   ]
  },
  {
   "cell_type": "markdown",
   "metadata": {},
   "source": [
    "# Checking the Format and Data Type of Test Labels\n",
    "\n",
    "Verifying that the labels in our test dataset follow the anticipated format is crucial before moving on with model training and assessment. This step guarantees that the evaluation of our model will be accurate in the future.\n",
    "\n",
    "The checks listed below are carried out:\n",
    "\n",
    "# Label Preview: \n",
    "Showing the test_data DataFrame's Class Index column's initial few items. We can quickly validate that the label transformation (from 1-4 to 0-3) was effective with this preview.\n",
    "\n",
    "# Data Type Check: \n",
    "Confirming the Class Index column's data type. These labels need to be in an integer format in order for our model and evaluation techniques to function properly."
   ]
  },
  {
   "cell_type": "code",
   "execution_count": 7,
   "metadata": {},
   "outputs": [
    {
     "name": "stdout",
     "output_type": "stream",
     "text": [
      "0    2\n",
      "1    3\n",
      "2    3\n",
      "3    3\n",
      "4    3\n",
      "Name: Class Index, dtype: int64\n",
      "Data type: int64\n"
     ]
    }
   ],
   "source": [
    "print(test_data[\"Class Index\"].head())\n",
    "print(\"Data type:\", test_data[\"Class Index\"].dtype)\n"
   ]
  },
  {
   "cell_type": "markdown",
   "metadata": {},
   "source": [
    "## Preprocessing \n",
    "\n",
    "Lowercase descriptions and clean up non-letter characters.\n",
    "\n",
    "**TODO 1**: Remove the occurences of \"http\" \"href\", \"https\" and \"www\". Also, remove the names of the news agencies (Reuters, AP, ...) from the datasets."
   ]
  },
  {
   "cell_type": "code",
   "execution_count": 8,
   "metadata": {},
   "outputs": [],
   "source": [
    "# Function to preprocess the data\n",
    "import re\n",
    "\n",
    "def preprocess_text(string):\n",
    "    # Removing HTML codes\n",
    "    string = re.sub(r'https?://\\S+|www\\.\\S+', '', string)\n",
    "    string = re.sub(r'&lt;/?[a-z]+&gt;', '', string)\n",
    "    string = re.sub(r'&quot;|&lt;', '', string)\n",
    "    \n",
    "    # Removing news agencies' names\n",
    "    agencies = ['Reuters', 'AP','BBC']  \n",
    "    for agency in agencies:\n",
    "        string = string.replace(agency, '')\n",
    "\n",
    "    string = string.lower()\n",
    "    string = string.replace(\"'\", \" \")\n",
    "    string = string.replace(\"\\\\\", \" \")\n",
    "    string = re.sub(r\"[^a-zA-Z]\", \" \", string)\n",
    "    return string\n",
    "\n",
    "# Apply the preprocessing\n",
    "try:\n",
    "    train_data[\"Description\"] = train_data[\"Description\"].apply(preprocess_text)\n",
    "    test_data[\"Description\"] = test_data[\"Description\"].apply(preprocess_text)\n",
    "except NameError as e:\n",
    "    print(f\"An error occurred: {e}\")\n",
    "\n",
    "#train_data[\"Description\"] = train_data[\"Description\"].apply(preprocess_text)\n",
    "#test_data[\"Description\"] = test_data[\"Description\"].apply(preprocess_text)"
   ]
  },
  {
   "cell_type": "markdown",
   "metadata": {},
   "source": [
    "Convert dataframes to lists (needed for further functions)."
   ]
  },
  {
   "cell_type": "code",
   "execution_count": 9,
   "metadata": {},
   "outputs": [],
   "source": [
    "train_data_list = train_data[\"Description\"].tolist()\n",
    "test_data_list = test_data[\"Description\"].tolist()\n",
    "train_labels_list = train_data[\"Class Index\"].tolist()\n",
    "test_labels_list = test_data[\"Class Index\"].tolist()"
   ]
  },
  {
   "cell_type": "markdown",
   "metadata": {},
   "source": [
    "Create validation set (taking out 20% of test set)"
   ]
  },
  {
   "cell_type": "code",
   "execution_count": 10,
   "metadata": {},
   "outputs": [],
   "source": [
    "(train_data_list, validation_data_list,\n",
    " train_labels_list, validation_labels_list) = train_test_split(train_data_list, train_labels_list, test_size=0.2, stratify=train_labels_list)"
   ]
  },
  {
   "cell_type": "markdown",
   "metadata": {},
   "source": [
    "### Removing Stop Words\n",
    "Remove stopwords from the *stopword* corpus."
   ]
  },
  {
   "cell_type": "code",
   "execution_count": 11,
   "metadata": {},
   "outputs": [
    {
     "name": "stderr",
     "output_type": "stream",
     "text": [
      "[nltk_data] Downloading package stopwords to /Users/mac/nltk_data...\n",
      "[nltk_data]   Package stopwords is already up-to-date!\n"
     ]
    }
   ],
   "source": [
    "nltk.download(\"stopwords\")\n",
    "def remove_stopwords(data_list):\n",
    "    stopword_list = stopwords.words(\"english\")\n",
    "    for i in range(len(data_list)):\n",
    "        data_list[i] = \" \".join(\n",
    "            [word for word in data_list[i].split() if word not in (stopword_list)]\n",
    "        )\n",
    "    return data_list"
   ]
  },
  {
   "cell_type": "code",
   "execution_count": 12,
   "metadata": {},
   "outputs": [],
   "source": [
    "train_data_list = remove_stopwords(train_data_list)\n",
    "validation_data_list = remove_stopwords(validation_data_list)\n",
    "test_data_list = remove_stopwords(test_data_list)"
   ]
  },
  {
   "cell_type": "markdown",
   "metadata": {},
   "source": [
    "### TODO 2: STEMMING\n",
    "Use **Stemming** or **Lemmatization** to grammatical word variations."
   ]
  },
  {
   "cell_type": "code",
   "execution_count": 13,
   "metadata": {},
   "outputs": [
    {
     "name": "stderr",
     "output_type": "stream",
     "text": [
      "[nltk_data] Downloading package stopwords to /Users/mac/nltk_data...\n",
      "[nltk_data]   Package stopwords is already up-to-date!\n"
     ]
    }
   ],
   "source": [
    "# TODO 2: YOUR CODE HERE\n",
    "import nltk\n",
    "from nltk.stem import PorterStemmer\n",
    "from nltk.corpus import stopwords\n",
    "\n",
    "nltk.download('stopwords')\n",
    "stop_words = set(stopwords.words('english'))\n",
    "stemmer = PorterStemmer()\n",
    "\n",
    "def stem_text(text):\n",
    "    return \" \".join([stemmer.stem(word) for word in text.split() if word not in stop_words])\n",
    "\n",
    "train_data[\"Description\"] = train_data[\"Description\"].apply(stem_text)\n",
    "test_data[\"Description\"] = test_data[\"Description\"].apply(stem_text)\n"
   ]
  },
  {
   "cell_type": "markdown",
   "metadata": {},
   "source": [
    "## 2. Recurrent Neural Network classifier with Keras and Tensorflow"
   ]
  },
  {
   "cell_type": "markdown",
   "metadata": {},
   "source": [
    "One-hot encode the labels (0 -> 0001, 1 -> 0010, ...) to match NN classifier head output."
   ]
  },
  {
   "cell_type": "code",
   "execution_count": 14,
   "metadata": {},
   "outputs": [
    {
     "name": "stdout",
     "output_type": "stream",
     "text": [
      "(96000, 4)\n"
     ]
    }
   ],
   "source": [
    "# the labels are of value 0, 1, 2, 3. We need to convert them to one-hot encoded vectors\n",
    "\n",
    "import tensorflow as tf\n",
    "import numpy as np\n",
    "\n",
    "# Assuming train_labels_list, validation_labels_list, and test_labels_list are already defined\n",
    "train_labels = tf.keras.utils.to_categorical(np.array(train_labels_list), num_classes=4)\n",
    "validation_labels = tf.keras.utils.to_categorical(np.array(validation_labels_list), num_classes=4)\n",
    "test_labels = tf.keras.utils.to_categorical(np.array(test_labels_list), num_classes=4)\n",
    "\n",
    "print(train_labels.shape)\n",
    "\n",
    "#train_labels = tensorflow.keras.utils.to_categorical(np.array(train_labels_list), num_classes=4)\n",
    "#validation_labels = tensorflow.keras.utils.to_categorical(np.array(validation_labels_list), num_classes=4)\n",
    "#test_labels = tensorflow.keras.utils.to_categorical(np.array(test_labels_list), num_classes=4)\n",
    "#print(train_labels.shape)"
   ]
  },
  {
   "cell_type": "markdown",
   "metadata": {},
   "source": [
    "First we use the TextVectorization layer to convert the text to a sequence of integers. You can read about how this works  [here](https://www.tensorflow.org/api_docs/python/tf/keras/layers/TextVectorization).\n"
   ]
  },
  {
   "cell_type": "code",
   "execution_count": 15,
   "metadata": {},
   "outputs": [
    {
     "name": "stdout",
     "output_type": "stream",
     "text": [
      "['', '[UNK]', 'said', 'new', 'two', 'us', 'quot', 'year', 'first', 'monday', 'wednesday', 'one', 'tuesday', 'world', 'company', 'thursday', 'inc', 'friday', 'u', 'last', 'york', 'yesterday', 'gt', 'three', 'president', 'week', 'million', 'oil', 'corp', 'sunday', 'time', 'united', 'would', 'government', 'game', 'today', 'people', 'years', 'could', 'group', 'saturday', 'second', 'iraq', 'percent', 'night', 'software', 'next', 'season', 'third', 'prices', 'day', 'microsoft', 'security', 'team', 'quarter', 'minister', 'stocks', 'internet', 'announced', 'state', 'international', 'back', 'four', 'washington', 'high', 'billion', 'may', 'market', 'news', 'former', 'officials', 'top', 'says', 'business', 'win', 'states', 'month', 'city', 'n', 'victory', 'country', 'end', 'record', 'largest', 'open', 'technology', 'european', 'service', 'reported', 'league', 'afp', 'computer', 'american', 'sales', 'according', 'home', 'five', 'federal', 'killed', 'national', 'prime', 'china', 'bush', 'expected', 'made', 'plans', 'research', 'major', 'co', 'court', 'network', 'target', 'online', 'london', 'maker', 'least', 'chief', 'companies', 'long', 'cup', 'final', 'san', 'british', 'lead', 'set', 'bank', 'search', 'deal', 'com', 'another', 'href', 'series', 'report', 'based', 'make', 'south', 'police', 'since', 'space', 'giant', 'take', 'industry', 'coach', 'old', 'help', 'john', 'way', 'leader', 'sports', 'music', 'web', 'services', 'run', 'shares', 'games', 'say', 'left', 'agreed', 'election', 'six', 'red', 'iraqi', 'hit', 'months', 'mobile', 'system', 'early', 'like', 'al', 'profit', 'quickinfo', 'fullquote', 'military', 'days', 'north', 'get', 'baghdad', 'india', 'general', 'rose', 'even', 'union', 'still', 'ago', 'war', 'including', 'japan', 'talks', 'half', 'many', 'biggest', 'executive', 'big', 'th', 'plan', 'bid', 'players', 'much', 'palestinian', 'official', 'released', 'data', 'wireless', 'held', 'round', 'latest', 'phone', 'olympic', 'move', 'trade', 'start', 'higher', 'google', 'stock', 'points', 'growth', 'athens', 'earnings', 'part', 'nuclear', 'boston', 'australia', 'global', 'england', 'west', 'nation', 'investors', 'dollar', 'head', 'users', 'public', 'test', 'nearly', 'weeks', 'fourth', 'israeli', 'play', 'nations', 'street', 'football', 'called', 'economic', 'cut', 'presidential', 'financial', 'championship', 'windows', 'gold', 'face', 'ibm', 'around', 'despite', 'man', 'found', 'seven', 'air', 'systems', 'francisco', 'firm', 'amp', 'leading', 'number', 'ahead', 'foreign', 'free', 'russian', 'go', 'took', 'reports', 'fell', 'used', 'past', 'near', 'right', 'use', 'also', 'economy', 'agency', 'sox', 'forces', 'following', 'loss', 'chicago', 'tokyo', 'pay', 'quote', 'america', 'work', 'troops', 'strong', 'led', 'buy', 'release', 'drug', 'attack', 'commission', 'apple', 'key', 'per', 'car', 'october', 'profile', 'media', 'player', 'share', 'gaza', 'version', 'st', 'press', 'e', 'europe', 'power', 'price', 'men', 'september', 'late', 'video', 'best', 'beat', 'rival', 'killing', 'products', 'workers', 'wall', 'region', 'source', 'capital', 'several', 'well', 'close', 'put', 'contract', 'russia', 'recent', 'agreement', 'title', 'demand', 'australian', 'conference', 'french', 'whether', 'program', 'offer', 'support', 'party', 'scientists', 'might', 'crude', 'oracle', 'leaders', 'un', 'manager', 'making', 'eight', 'jobs', 'told', 'customers', 'november', 'champion', 'department', 'scored', 'running', 'northern', 'house', 'los', 'japanese', 'lower', 'pakistan', 'life', 'digital', 'attacks', 'saying', 'energy', 'center', 'southern', 'peace', 'line', 'michael', 'school', 'consumer', 'florida', 'california', 'angeles', 'results', 'good', 'without', 'champions', 'management', 'university', 'race', 'field', 'decision', 'office', 'due', 'low', 'little', 'political', 'winning', 'campaign', 'central', 'away', 'taking', 'meeting', 'launched', 'hurricane', 'star', 'army', 'place', 'intel', 'weekend', 'canadian', 'britain', 'b', 'interest', 'using', 'morning', 'across', 'give', 'linux', 'straight', 'israel', 'secretary', 'houston', 'become', 'operating', 'board', 'lost', 'match', 'bomb', 'information', 'peoplesoft', 'oct', 'charges', 'site', 'defense', 'launch', 'chairman', 'nasa', 'quarterly', 'future', 'communications', 'better', 'club', 'women', 'costs', 'shot', 'uk', 'health', 'warned', 'keep', 'case', 'times', 'p', 'iran', 'france', 'stores', 'senior', 'sun', 'history', 'trading', 'showed', 'mark', 'elections', 'cost', 'posted', 'return', 'money', 'pc', 'death', 'yankees', 'show', 'come', 'kerry', 'bill', 'earlier', 'ever', 'korea', 'militants', 'job', 'baseball', 'stadium', 'exchange', 'television', 'signed', 'increase', 'among', 'david', 'almost', 'small', 'rise', 'toronto', 'less', 'mail', 'likely', 'force', 'going', 'ltd', 'grand', 'nine', 'thousands', 'east', 'accused', 'net', 'fans', 'chip', 'came', 'reserve', 'ended', 'helped', 'full', 'behind', 'nov', 'began', 'point', 'texas', 'real', 'got', 'cash', 'judge', 'action', 'offering', 'administration', 'battle', 'sell', 'opening', 'association', 'growing', 'germany', 'barrel', 'possible', 'died', 'canada', 'august', 'members', 'medal', 'division', 'amid', 'control', 'post', 'yet', 'trial', 'rate', 'anti', 'access', 'arafat', 'term', 'darfur', 'performance', 'white', 'tax', 'hours', 'afghanistan', 'hopes', 'countries', 'already', 'paris', 'networks', 'fall', 'food', 'computers', 'rates', 'study', 'far', 'store', 'efforts', 'revenue', 'bankruptcy', 'production', 'chinese', 'within', 'look', 'airlines', 'western', 'violence', 'personal', 'human', 'fund', 'career', 'soon', 'sept', 'paul', 'authorities', 'see', 'popular', 'trying', 'corporate', 'sudan', 'step', 'injured', 'law', 'german', 'takeover', 'engine', 'starting', 'analysts', 'outside', 'george', 'williams', 'product', 'opposition', 'hard', 'radio', 'hostage', 'yards', 'gave', 'competition', 'aimed', 'main', 'retailer', 'tour', 'local', 'quarterback', 'speed', 'size', 'jones', 'change', 'server', 'reached', 'devices', 'development', 'african', 'known', 'airline', 'soldiers', 'continued', 'taken', 'giants', 'font', 'council', 'stop', 'seattle', 'markets', 'failed', 'tech', 'gas', 'fire', 'miami', 'enough', 'profits', 'others', 'concerns', 'dead', 'manchester', 'filed', 'investment', 'great', 'yasser', 'short', 'phones', 'begin', 'weapons', 'fight', 'unit', 'strike', 'reach', 'bay', 'euro', 'insurance', 'vote', 'sony', 'selling', 'operations', 'large', 'find', 'americans', 'teams', 'olympics', 'looking', 'executives', 'beijing', 'raised', 'cell', 'side', 'hold', 'went', 'africa', 'consumers', 'meet', 'legal', 'desktop', 'working', 'researchers', 'rebel', 'children', 'green', 'cp', 'coast', 'fuel', 'electronics', 'claims', 'tony', 'spain', 'finally', 'coming', 'indian', 'fighting', 'call', 'spending', 'file', 'need', 'rally', 'family', 'blue', 'moscow', 'annual', 'yahoo', 'must', 'businesses', 'getting', 'effort', 'atlanta', 'never', 'area', 'rights', 'private', 'station', 'level', 'toward', 'powerful', 'madrid', 'securities', 'list', 'forecast', 'fired', 'designed', 'continue', 'hundreds', 'goal', 'drive', 'arrested', 'cbs', 'bowl', 'provide', 'drop', 'visit', 'named', 'rebels', 'nasdaq', 'italian', 'december', 'problems', 'survey', 'planned', 'tv', 'name', 'investigation', 'democratic', 'allow', 'calif', 'every', 'basketball', 'labor', 'holiday', 'attempt', 'policy', 'heart', 'decided', 'current', 'boost', 'available', 'supply', 'sent', 'gains', 'muslim', 'charged', 'officer', 'employees', 'nfl', 'expectations', 'ruling', 'regulators', 'order', 'holding', 'college', 'rising', 'pressure', 'louis', 'turned', 'retail', 'eu', 'asked', 'park', 'aid', 'equipment', 'approved', 'ipod', 'sold', 'philadelphia', 'dollars', 'detroit', 'tournament', 'strip', 'island', 'confirmed', 'unveiled', 'stake', 'ceo', 'suspected', 'moved', 'later', 'islamic', 'inning', 'flight', 'winter', 'claimed', 'technologies', 'spokesman', 'try', 'seen', 'average', 'finance', 'arsenal', 'advanced', 'sale', 'cent', 'fifth', 'worth', 'threat', 'mike', 'ending', 'building', 'sign', 'rivals', 'applications', 'terrorism', 'opened', 'injury', 'w', 'staff', 'giving', 'ranked', 'enterprise', 'chance', 'want', 'runs', 'generation', 'fresh', 'asia', 'steve', 'double', 'captain', 'though', 'increased', 'touchdown', 'town', 'given', 'storage', 'playing', 'color', 'added', 'suicide', 'hospital', 'medical', 'young', 'process', 'earth', 'black', 'g', 'build', 'sites', 'c', 'airways', 'water', 'wants', 'turn', 'guard', 'crisis', 'charge', 'millions', 'lines', 'bring', 'aug', 'received', 'groups', 'challenge', 'outlook', 'storm', 'hope', 'missing', 'know', 'asian', 'ready', 'ivan', 'event', 'alleged', 'started', 'fears', 'body', 'director', 'card', 'soccer', 'risk', 'played', 'middle', 'experts', 'ground', 'militant', 'defeat', 'minutes', 'blair', 'minnesota', 'warning', 'threatened', 'organization', 'accounting', 'related', 'let', 'focus', 'summer', 'sources', 'sharon', 'position', 'johnson', 'cricket', 'committee', 'closer', 'able', 'prison', 'issue', 'forward', 'ruled', 'mw', 'losing', 'statement', 'fraud', 'spam', 'interim', 'evidence', 'greece', 'clear', 'whose', 'proposed', 'project', 'satellite', 'range', 'wounded', 'drugs', 'became', 'lawsuit', 'debt', 'x', 'urged', 'mission', 'losses', 'leave', 'forced', 'along', 'push', 'ireland', 'create', 'single', 'safety', 'recently', 'offered', 'dow', 'hand', 'special', 'comes', 'calls', 'browser', 'track', 'credit', 'although', 'italy', 'pro', 'chips', 'application', 'homes', 'entertainment', 'road', 'july', 'january', 'carrier', 'eastern', 'commercial', 'rejected', 'insurgents', 'initial', 'camp', 'remain', 'issues', 'device', 'consecutive', 'newspaper', 'care', 'afghan', 'ms', 'huge', 'heavy', 'dutch', 'cuts', 'airport', 'light', 'met', 'beating', 'leaving', 'supplies', 'provider', 'dropped', 'congress', 'jose', 'citing', 'terrorist', 'ministry', 'course', 'afternoon', 'important', 'think', 'palestinians', 'seeking', 'returned', 'offensive', 'brown', 'ariel', 'standard', 'stage', 'potential', 'kept', 'highest', 'acquisition', 'virginia', 'dell', 'built', 'ban', 'wanted', 'davis', 'brought', 'zealand', 'xp', 'total', 'terror', 'slightly', 'dec', 'claim', 'singh', 'instead', 'border', 'ryder', 'chain', 'aircraft', 'role', 'member', 'travel', 'bad', 'wide', 'sans', 'nba', 'formula', 'electronic', 'nyse', 'fallujah', 'spanish', 'justice', 'fast', 'developed', 'de', 'closed', 'scheduled', 'najaf', 'woman', 'published', 'oakland', 'miss', 'issued', 'front', 'voters', 'vice', 'dvd', 'debate', 'shows', 'remains', 'parliament', 'golf', 'cleric', 'striker', 'makes', 'sending', 'scandal', 'prize', 'hostile', 'avoid', 'rest', 'host', 'hoping', 'tonight', 'shopping', 'result', 'code', 'threw', 'thought', 'negotiations', 'kidnapped', 'break', 'saw', 'moon', 'memory', 'illegal', 'f', 'content', 'cisco', 'struck', 'prix', 'needed', 'verdana', 'serif', 'previous', 'merger', 'helvetica', 'carolina', 'attorney', 'arial', 'tiger', 'futures', 'sharply', 'kabul', 'form', 'expects', 'supreme', 'send', 'appeared', 'winner', 'rules', 'proposal', 'plc', 'confidence', 'advertising', 'worldwide', 'raise', 'longer', 'dallas', 'concern', 'boeing', 'settle', 'science', 'candidate', 'yukos', 'firms', 'update', 'protection', 'features', 'banks', 'decades', 'controversial', 'save', 'mortgage', 'james', 'figures', 'rocket', 'question', 'motor', 'explosion', 'caused', 'suspended', 'sector', 'innings', 'cardinals', 'acquire', 'training', 'showing', 'operation', 'funds', 'cleveland', 'makers', 'deficit', 'decline', 'classic', 'calling', 'broadband', 'ran', 'planning', 'pass', 'dispute', 'develop', 'streak', 'spacecraft', 'roger', 'republican', 'movie', 'together', 'pace', 'jerusalem', 'introduced', 'howard', 'changes', 'woods', 'watch', 'something', 'mexico', 'decade', 'sydney', 'probably', 'premier', 'machines', 'backed', 'slow', 'programs', 'problem', 'pittsburgh', 'buying', 'base', 'arrived', 'tim', 'tennis', 'revealed', 'period', 'marketing', 'delta', 'abu', 'servers', 'remained', 'intelligence', 'semiconductor', 'poor', 'hockey', 'delhi', 'touchdowns', 'sharing', 'chelsea', 'vladimir', 'troubled', 'shareholders', 'secure', 'operator', 'beginning', 'takes', 'session', 'civil', 'worst', 'virus', 'success', 'stay', 'reduce', 'pulled', 'draw', 'corporation', 'astros', 'spent', 'processor', 'playoff', 'brazil', 'associated', 'parts', 'nextel', 'joint', 'helping', 'armed', 'yard', 'passed', 'moving', 'fiscal', 'film', 'disney', 'auto', 'things', 'pilots', 'korean', 'producer', 'practice', 'colin', 'broke', 'weather', 'taiwan', 'seconds', 'pcs', 'different', 'cable', 'linked', 'wal', 'qaeda', 'gain', 'extended', 'domestic', 'arab', 'yen', 'sprint', 'mart', 'join', 'industrial', 'hour', 'christmas', 'settlement', 'mid', 'massive', 'manufacturing', 'indonesia', 'serious', 'senate', 'room', 'kansas', 'struggling', 'uranium', 'rich', 'jets', 'facing', 'mass', 'march', 'believe', 'province', 'masters', 'holdings', 'exploded', 'spot', 'sharp', 'ordered', 'minute', 'wounding', 'rule', 'michigan', 'jason', 'hollywood', 'goals', 'developing', 'bn', 'telephone', 'tehran', 'sadr', 'kong', 'jump', 'paid', 'j', 'improve', 'hong', 'guilty', 'tom', 'thailand', 'racing', 'plus', 'falling', 'century', 'approval', 'protect', 'plant', 'microsystems', 'damage', 'terms', 'recovery', 'owner', 'ohio', 'impact', 'ford', 'announce', 'sport', 'patriots', 'nokia', 'needs', 'row', 'probe', 'packard', 'community', 'amd', 'raising', 'putin', 'pacific', 'hewlett', 'ball', 'twice', 'signs', 'king', 'baltimore', 'appeal', 'trophy', 'setting', 'mac', 'finals', 'download', 'worries', 'boss', 'strategy', 'republic', 'platform', 'pitcher', 'diego', 'telecommunications', 'surgery', 'miles', 'looks', 'levels', 'embassy', 'easy', 'cutting', 'continues', 'tomorrow', 'talk', 'pm', 'martin', 'discovered', 'tried', 'stewart', 'questions', 'income', 'sanctions', 'allowed', 'warner', 'voting', 'residents', 'montreal', 'lawsuits', 'inflation', 'conflict', 'washingtonpost', 'peer', 'complete', 'arizona', 'significant', 'pakistani', 'express', 'critical', 'breaking', 'bonds', 'benefits', 'wild', 'previously', 'plane', 'live', 'inside', 'hotel', 'appears', 'suffered', 'becoming', 'positive', 'knee', 'jumped', 'fla', 'assault', 'stand', 'relief', 'june', 'itunes', 'colorado', 'cause', 'tough', 'thanks', 'species', 'offers', 'nhl', 'announcement', 'seventh', 'richard', 'handed', 'debut', 'awaited', 'witnesses', 'really', 'passes', 'irish', 'completed', 'traders', 'surprise', 'review', 'panel', 'filing', 'daily', 'venture', 'numbers', 'msn', 'ministers', 'looked', 'joined', 'hits', 'deadly', 'check', 'turkey', 'tools', 'prepared', 'nothing', 'nigeria', 'kashmir', 'highs', 'consider', 'trip', 'missile', 'district', 'royal', 'replace', 'qualifying', 'l', 'hurt', 'hot', 'egypt', 'blow', 'bit', 'value', 'hostages', 'budget', 'anaheim', 'story', 'often', 'lot', 'independent', 'defensive', 'criminal', 'commerce', 'areas', 'sure', 'sixth', 'retailers', 'majority', 'living', 'image', 'heating', 'expand', 'display', 'apparently', 'ten', 'sen', 'jeff', 'sea', 'r', 'progress', 'defending', 'brussels', 'auction', 'mars', 'denied', 'act', 'traffic', 'singapore', 'screen', 'regional', 'ninth', 'jakarta', 'faces', 'common', 'agent', 'tool', 'rain', 'purchase', 'familiar', 'direct', 'motors', 'grew', 'declared', 'saddam', 'par', 'package', 'owners', 'output', 'dolphins', 'doctors', 'bombing', 'alan', 'class', 'banking', 'allegations', 'zone', 'voted', 'islamabad', 'foot', 'done', 'arms', 'upcoming', 'treasury', 'shiite', 'seems', 'pre', 'powell', 'english', 'cents', 'andy', 'adding', 'saudi', 'driver', 'disease', 'denver', 'considering', 'block', 'assets', 'rookie', 'person', 'message', 'matter', 'expect', 'estimates', 'created', 'allows', 'thing', 'retirement', 'prosecutors', 'flat', 'finished', 'details', 'begun', 'wake', 'super', 'records', 'protest', 'orders', 'opener', 'managers', 'karzai', 'homer', 'gulf', 'eighth', 'ag', 'partners', 'non', 'documents', 'atomic', 'alliance', 'students', 'hands', 'hamid', 'crowd', 'crash', 'climate', 'alex', 'add', 'wales', 'view', 'toll', 'poll', 'magazine', 'index', 'explorer', 'currency', 'watchdog', 'victims', 'prince', 'os', 'offense', 'liverpool', 'historic', 'finding', 'crashed', 'award', 'utah', 'sudanese', 'customer', 'coalition', 'weak', 'testing', 'successful', 'sought', 'scoring', 'planet', 'land', 'interview', 'include', 'computing', 'chris', 'carrying', 'bought', 'believed', 'associates', 'agencies', 'threats', 'resolution', 'regular', 'mutual', 'includes', 'headed', 'eagles', 'believes', 'atlantic', 'receiver', 'pair', 'kevin', 'hurricanes', 'emergency', 'cubs', 'crucial', 'cars', 'bringing', 'strength', 'sir', 'notre', 'firefox', 'design', 'crew', 'core', 'convention', 'conditions', 'changed', 'blast', 'ways', 'reportedly', 'quickly', 'preparing', 'pension', 'nationwide', 'nascar', 'immediately', 'hussein', 'flu', 'dozens', 'democracy', 'dame', 'commissioner', 'ticker', 'pack', 'lift', 'info', 'fastest', 'faster', 'delayed', 'carlos', 'turning', 'missed', 'mets', 'expansion', 'demands', 'chart', 'cancer', 'admitted', 'voice', 'treatment', 'portable', 'natural', 'jail', 'goods', 'defence', 'declined', 'county', 'championships', 'boosted', 'allegedly', 'speculation', 'rather', 'rangers', 'putting', 'promised', 'indonesian', 'handheld', 'entered', 'continuing', 'barry', 'arm', 'vioxx', 'score', 'priority', 'patent', 'craig', 'bombs', 'antitrust', 'activity', 'vehicle', 'robert', 'remaining', 'property', 'involved', 'enron', 'discuss', 'always', 'veteran', 'summit', 'shut', 'remote', 'ivory', 'enrichment', 'charles', 'via', 'tests', 'tampa', 'smaller', 'opec', 'newsfactor', 'greek', 'deadline', 'date', 'tight', 'terrorists', 'parties', 'owned', 'murder', 'lawyers', 'gets', 'flights', 'ebay', 'blood', 'word', 'surged', 'soldier', 'newly', 'movies', 'improved', 'edition', 'developer', 'activities', 'tennessee', 'supporters', 'merck', 'files', 'closing', 'certain', 'analyst', 'warming', 'stars', 'placed', 'model', 'journal', 'joe', 'hamas', 'angels', 'upset', 'increasingly', 'hat', 'hardware', 'gone', 'forecasts', 'bodies', 'unless', 'opportunity', 'musharraf', 'heat', 'disappointing', 'tie', 'spend', 'smith', 'separate', 'instant', 'format', 'expos', 'exports', 'donald', 'cincinnati', 'wrong', 'unions', 'rare', 'mozilla', 'finish', 'draft', 'pushed', 'edge', 'driven', 'directors', 'delay', 'cards', 'ukraine', 'stroke', 'standards', 'reporting', 'reason', 'investigating', 'increasing', 'hole', 'book', 'widely', 'vehicles', 'threatening', 'rallied', 'extra', 'deep', 'candidates', 'cabinet', 'age', 'pt', 'officially', 'nl', 'faced', 'vowed', 'technical', 'spyware', 'resigned', 'photo', 'overnight', 'ottawa', 'matches', 'indiana', 'hills', 'haiti', 'upgrade', 'traditional', 'rock', 'premiership', 'motion', 'micro', 'kill', 'gary', 'cities', 'anticipated', 'advance', 'withdrawal', 'van', 'son', 'singore', 'similar', 'officers', 'nintendo', 'attention', 'wayne', 'resume', 'launching', 'eye', 'decide', 'broken', 'berlin', 'wins', 'seek', 'radical', 'providers', 'picture', 'pervez', 'investor', 'georgia', 'doubled', 'stronger', 'renewed', 'prisoners', 'overall', 'oklahoma', 'names', 'lose', 'keeping', 'gunmen', 'evening', 'ask', 'sym', 'qtype', 'qcat', 'nikkei', 'mixed', 'infotype', 'emerged', 'advantage', 'style', 'steel', 'seed', 'pga', 'jan', 'deputy', 'bryant', 'brian', 'beyond', 'bears', 'wife', 'ties', 'situation', 'sex', 'polls', 'pick', 'partner', 'options', 'hp', 'edged', 'eased', 'approach', 'acquired', 'taliban', 'smart', 'semi', 'partnership', 'limited', 'larry', 'jet', 'images', 'hearing', 'greater', 'cingular', 'arrest', 'withdraw', 'shipping', 'jewish', 'involving', 'hall', 'cross', 'capacity', 'virgin', 'swiss', 'professional', 'parent', 'governments', 'era', 'drove', 'claiming', 'captured', 'authority', 'train', 'surge', 'novell', 'disaster', 'difficult', 'vienna', 'tiny', 'songs', 'shooting', 'seoul', 'resources', 'newcastle', 'means', 'marathon', 'jr', 'copyright', 'allowing', 'airbus', 'unbeaten', 'sri', 'solid', 'scotland', 'pull', 'pedro', 'overtime', 'lives', 'kind', 'jacques', 'brand', 'announcing', 'stem', 'response', 'request', 'ranking', 'pitch', 'option', 'milan', 'java', 'falluja', 'deliver', 'bin', 'appear', 'wave', 'trouble', 'suit', 'sides', 'secret', 'ray', 'la', 'amazon', 'soaring', 'seeded', 'rebounds', 'passenger', 'expressed', 'el', 'dozen', 'defeated', 'database', 'compete', 'accept', 'walt', 'restructuring', 'quite', 'philippines', 'ongoing', 'manufacturer', 'frank', 'fine', 'feature', 'extend', 'dominated', 'dodgers', 'caught', 'beta', 'aol', 'telecom', 'recording', 'possibly', 'mr', 'messaging', 'manning', 'indianapolis', 'flash', 'cnn', 'carry', 'attacked', 'appeals', 'allawi', 'traded', 'speech', 'relations', 'prevent', 'insisted', 'holy', 'halt', 'federer', 'doping', 'comments', 'camera', 'beach', 'user', 'throughout', 'self', 'scores', 'refugee', 'protocol', 'perhaps', 'moves', 'martinez', 'heading', 'effect', 'creating', 'bills', 'visiting', 'targets', 'ron', 'freed', 'entire', 'electric', 'earthquake', 'cuba', 'crimes', 'website', 'massachusetts', 'h', 'events', 'egyptian', 'dramatic', 'books', 'bell', 'ship', 'sets', 'scott', 'internal', 'doubt', 'centre', 'annan', 'ability', 'vijay', 'vendor', 'solution', 'schools', 'saturn', 'piracy', 'onto', 'jim', 'agree', 'wi', 'violent', 'theft', 'square', 'schedule', 'reaching', 'pushing', 'msft', 'messages', 'machine', 'laws', 'hitting', 'fi', 'considered', 'cold', 'broadcast', 'auburn', 'address', 'tackle', 'seized', 'processors', 'practices', 'links', 'labour', 'joining', 'either', 'chase', 'channel', 'chances', 'bus', 'votes', 'refused', 'preliminary', 'picked', 'iraqis', 'injuring', 'drew', 'shuttle', 'scientific', 'port', 'networking', 'lifted', 'lee', 'gained', 'failing', 'environment', 'developers', 'criticism', 'signing', 'seasons', 'postseason', 'legislation', 'leadership', 'laden', 'jersey', 'fannie', 'everything', 'driving', 'bird', 'account', 'words', 'waiting', 'rockets', 'patients', 'page', 'kofi', 'highly', 'goes', 'founder', 'forest', 'environmental', 'twins', 'stepped', 'pleaded', 'monetary', 'mae', 'housing', 'grow', 'figure', 'fighters', 'civilians', 'vendors', 'sentenced', 'read', 'pacers', 'managed', 'lawmakers', 'explosives', 'connection', 'child', 'boy', 'additional', 'winds', 'verizon', 'titan', 'thomas', 'social', 'pledged', 'lows', 'jury', 'gates', 'franchise', 'fought', 'deals', 'construction', 'anyone', 'works', 'taxes', 'shock', 'seemed', 'perfect', 'however', 'elected', 'bottom', 'bobby', 'bangladesh', 'ali', 'abuse', 'wait', 'tigers', 'sued', 'streets', 'stopped', 'peter', 'offset', 'martha', 'jackson', 'governor', 'choice', 'brazilian', 'zimbabwe', 'solar', 'soft', 'produced', 'orleans', 'ice', 'failure', 'dismissed', 'columbia', 'closely', 'antonio', 'towards', 'toshiba', 'subscribers', 'roddick', 'preseason', 'mining', 'measures', 'manufacturers', 'idea', 'greenspan', 'ex', 'communist', 'bob', 'april', 'torn', 'slipped', 'orlando', 'lack', 'ii', 'fellow', 'fact', 'ceremony', 'va', 'usa', 'spread', 'paying', 'morgan', 'everyone', 'enter', 'dangerous', 'cameras', 'assistant', 'argentina', 'anniversary', 'viruses', 'units', 'tied', 'suffering', 'poised', 'institute', 'frances', 'flying', 'clash', 'cassini', 'braves', 'bigley', 'tell', 'talking', 'sbc', 'samsung', 'rome', 'providing', 'pitched', 'models', 'largely', 'lanka', 'headquarters', 'convicted', 'carried', 'au', 'anything', 'shift', 'returning', 'marsh', 'ken', 'increases', 'improving', 'earned', 'described', 'beckham', 'serving', 'quit', 'quality', 'hewitt', 'expanding', 'engineers', 'delivered', 'worm', 'vs', 'provided', 'larger', 'language', 'iranian', 'injuries', 'heard', 'gordon', 'friendly', 'foundation', 'cover', 'causing', 'responsible', 'redskins', 'receive', 'predicted', 'matt', 'lowest', 'jean', 'identity', 'equity', 'dual', 'deaths', 'born', 'bombings', 'appointed', 'alive', 'writes', 'successfully', 'playoffs', 'multi', 'mp', 'mine', 'medals', 'lay', 'lawyer', 'investigators', 'industries', 'emerging', 'ease', 'corruption', 'compared', 'collapse', 'accounts', 'solutions', 'safe', 'reform', 'potentially', 'passengers', 'love', 'leg', 'kobe', 'kidnappers', 'hear', 'fly', 'fear', 'distribution', 'climbed', 'unlikely', 'studios', 'status', 'southeast', 'ravens', 'produce', 'opponents', 'graphics', 'fields', 'embattled', 'diplomats', 'caribbean', 'broker', 'bigger', 'andre', 'typhoon', 'territory', 'tens', 'suggested', 'ring', 'planes', 'meter', 'landmark', 'introduce', 'illegally', 'banned', 'assembly', 'squad', 'spring', 'sound', 'representatives', 'osama', 'netherlands', 'militia', 'lineup', 'knew', 'journalists', 'heavyweight', 'hamm', 'friends', 'expanded', 'begins', 'watched', 'virtual', 'truck', 'supercomputer', 'starts', 'schilling', 'recall', 'privately', 'packers', 'lake', 'jeanne', 'infrastructure', 'gives', 'focused', 'demanding', 'coup', 'arthritis', 'watching', 'universal', 'syria', 'steelers', 'steady', 'silicon', 'resignation', 'reduced', 'projects', 'programme', 'presence', 'malaysia', 'lewis', 'jack', 'fish', 'euros', 'edwards', 'critics', 'anthony', 'worker', 'turkish', 'targeting', 'las', 'justin', 'education', 'distance', 'circuit', 'barcelona', 'astronauts', 'weaker', 'table', 'suspects', 'suggests', 'strategic', 'shots', 'shell', 'rescue', 'nigerian', 'maria', 'ip', 'inventories', 'estimated', 'espn', 'desert', 'currently', 'competitors', 'catch', 'box', 'benefit', 'agents']\n"
     ]
    }
   ],
   "source": [
    "# this will create a vocabulary of the top 2500 words and then convert the text to a sequence of numbers\n",
    "vocab_size = 2500 # how many of the most frequent words to keep\n",
    "sequence_length = 30 # how many words we use to represent a description\n",
    "vectorizer = TextVectorization(max_tokens=vocab_size, output_sequence_length=sequence_length)\n",
    "# fit the vectorizer on the training data (find the most common words and assign values to them)\n",
    "vectorizer.adapt(train_data_list)\n",
    "# show the selected words\n",
    "print(vectorizer.get_vocabulary())"
   ]
  },
  {
   "cell_type": "code",
   "execution_count": 16,
   "metadata": {},
   "outputs": [
    {
     "name": "stdout",
     "output_type": "stream",
     "text": [
      "(96000, 30)\n"
     ]
    }
   ],
   "source": [
    "# vectorize the training data (replace words by their associated values)\n",
    "train_data_vectorized = vectorizer(train_data_list)\n",
    "# vectorize the validation data\n",
    "validation_data_vectorized = vectorizer(validation_data_list)\n",
    "# vectorize the test data\n",
    "test_data_vectorized = vectorizer(test_data_list)\n",
    "# this shape shows that we have our 96000 training examples, each as a vector of 30 integers\n",
    "print(train_data_vectorized.shape)"
   ]
  },
  {
   "cell_type": "code",
   "execution_count": 17,
   "metadata": {},
   "outputs": [
    {
     "name": "stdout",
     "output_type": "stream",
     "text": [
      "tf.Tensor(\n",
      "[ 246 1028 2378 1221  424  165 1442  118    1   57    1  424  256  185\n",
      "  418 1362 1618  940    1  112  370    0    0    0    0    0    0    0\n",
      "    0    0], shape=(30,), dtype=int64)\n"
     ]
    }
   ],
   "source": [
    "# see how a vectorized news description looks like\n",
    "print(train_data_vectorized[1])"
   ]
  },
  {
   "cell_type": "markdown",
   "metadata": {},
   "source": [
    "We then build a RNN.\n",
    "\n",
    "We use an *Embedding layer* to convert the integer sequences to embeddings. You can read about how this works [here](https://www.tensorflow.org/api_docs/python/tf/keras/layers/Embedding).\n",
    "\n",
    "The Bidirectional layer takes the input and passes it forwards and backwards through the LSTM (Long-Short Term Memory) layer. It allows the network to learn the context of the sentence in both directions, so information from both previous and following words is taken into account.\n"
   ]
  },
  {
   "cell_type": "code",
   "execution_count": 18,
   "metadata": {},
   "outputs": [
    {
     "name": "stdout",
     "output_type": "stream",
     "text": [
      "Model: \"sequential\"\n",
      "_________________________________________________________________\n",
      " Layer (type)                Output Shape              Param #   \n",
      "=================================================================\n",
      " embedding (Embedding)       (None, None, 32)          80000     \n",
      "                                                                 \n",
      " bidirectional (Bidirection  (None, 64)                16640     \n",
      " al)                                                             \n",
      "                                                                 \n",
      " dense (Dense)               (None, 4)                 260       \n",
      "                                                                 \n",
      "=================================================================\n",
      "Total params: 96900 (378.52 KB)\n",
      "Trainable params: 96900 (378.52 KB)\n",
      "Non-trainable params: 0 (0.00 Byte)\n",
      "_________________________________________________________________\n",
      "Epoch 1/5\n",
      "750/750 [==============================] - 37s 44ms/step - loss: 0.4750 - accuracy: 0.8296 - val_loss: 0.3428 - val_accuracy: 0.8801\n",
      "Epoch 2/5\n",
      "750/750 [==============================] - 22s 30ms/step - loss: 0.3211 - accuracy: 0.8891 - val_loss: 0.3360 - val_accuracy: 0.8830\n",
      "Epoch 3/5\n",
      "750/750 [==============================] - 25s 33ms/step - loss: 0.3037 - accuracy: 0.8941 - val_loss: 0.3341 - val_accuracy: 0.8819\n",
      "Epoch 4/5\n",
      "750/750 [==============================] - 21s 28ms/step - loss: 0.2914 - accuracy: 0.8968 - val_loss: 0.3333 - val_accuracy: 0.8802\n",
      "Epoch 5/5\n",
      "750/750 [==============================] - 22s 29ms/step - loss: 0.2805 - accuracy: 0.9003 - val_loss: 0.3290 - val_accuracy: 0.8827\n",
      "238/238 [==============================] - 3s 7ms/step\n",
      "Test Set Accuracy:  0.8825\n"
     ]
    },
    {
     "data": {
      "text/plain": [
       "<AxesSubplot:>"
      ]
     },
     "execution_count": 18,
     "metadata": {},
     "output_type": "execute_result"
    },
    {
     "data": {
      "image/png": "[encoded data removed]",
      "text/plain": [
       "<Figure size 720x504 with 2 Axes>"
      ]
     },
     "metadata": {
      "needs_background": "light"
     },
     "output_type": "display_data"
    }
   ],
   "source": [
    "model = Sequential()\n",
    "model.add(Embedding(vocab_size, 32))\n",
    "model.add(Bidirectional(LSTM(32)))\n",
    "model.add(Dense(4, activation=\"softmax\"))\n",
    "\n",
    "model.summary()\n",
    "\n",
    "# compile the model\n",
    "model.compile(loss=\"categorical_crossentropy\", optimizer=\"adam\", metrics=[\"accuracy\"])\n",
    "\n",
    "# fit the model\n",
    "model.fit(\n",
    "    train_data_vectorized,\n",
    "    train_labels,\n",
    "    epochs=5,\n",
    "    batch_size=128,\n",
    "    verbose=1,\n",
    "    validation_data=(validation_data_vectorized, validation_labels),\n",
    ")\n",
    "\n",
    "# predict the labels on the test data\n",
    "rnn_predictions = model.predict(test_data_vectorized)\n",
    "# since predictions are one-hot encoded, we convert them to an int label taking the output with higher value\n",
    "rnn_predictions = np.argmax(rnn_predictions, axis=1)\n",
    "\n",
    "# calculate the accuracy score\n",
    "accuracy = accuracy_score(test_labels_list, rnn_predictions)\n",
    "print(\"Test Set Accuracy: \", accuracy)\n",
    "# create a confusion matrix\n",
    "cm = confusion_matrix(test_labels_list, rnn_predictions)\n",
    "# plot the confusion matrix\n",
    "plt.figure(figsize=(10, 7))\n",
    "sns.heatmap(cm, annot=True, fmt=\"d\", xticklabels=label_names, yticklabels=label_names)"
   ]
  },
  {
   "cell_type": "markdown",
   "metadata": {},
   "source": [
    "# TODO 3: Creating Example Predictions\n",
    "Test the model. Create some fresh sample news (copy them from a news site like BBC) then see if the model can predict the correct labels. Use one example per class.\n",
    "\n",
    "Also, find one example that gets misclassified and briefly discuss here why it might happen:"
   ]
  },
  {
   "cell_type": "code",
   "execution_count": 23,
   "metadata": {},
   "outputs": [
    {
     "name": "stdout",
     "output_type": "stream",
     "text": [
      "1/1 [==============================] - 0s 69ms/step\n",
      "Headline: Ukraine war: Ukraine military seeks extra 500,000 soldiers - President Zelensky\n",
      "Predicted Category: World\n",
      "\n",
      "Headline: Liverpool 5-1 West Ham: Jurgen Klopp critical of atmosphere before Arsenal visit\n",
      "Predicted Category: World\n",
      "\n",
      "Headline: First protests in Argentina against Milei's austerity plan\n",
      "Predicted Category: World\n",
      "\n",
      "Headline: Nasa beams cat video from deep space with laser\n",
      "Predicted Category: World\n",
      "\n"
     ]
    }
   ],
   "source": [
    "import tensorflow as tf\n",
    "import numpy as np\n",
    "from tensorflow.keras.preprocessing.text import Tokenizer\n",
    "\n",
    "# Tokenization and padding\n",
    "vocab_size = 2500  \n",
    "tokenizer = Tokenizer(num_words=vocab_size, oov_token=\"<OOV>\")\n",
    "tokenizer.fit_on_texts(train_data[\"Description\"])\n",
    "\n",
    "\n",
    "# Define the news headlines\n",
    "news_headlines = [\n",
    "    \"Ukraine war: Ukraine military seeks extra 500,000 soldiers - President Zelensky\",\n",
    "    \"Liverpool 5-1 West Ham: Jurgen Klopp critical of atmosphere before Arsenal visit\",\n",
    "    \"First protests in Argentina against Milei's austerity plan\",\n",
    "    \"Nasa beams cat video from deep space with laser\"\n",
    "]\n",
    "\n",
    "# Preprocess the headlines\n",
    "preprocessed_headlines = [preprocess_text(headline) for headline in news_headlines]\n",
    "preprocessed_headlines = [stem_text(headline) for headline in preprocessed_headlines]\n",
    "\n",
    "# Tokenize and pad the headlines\n",
    "tokenized_headlines = tokenizer.texts_to_sequences(preprocessed_headlines)\n",
    "padded_headlines = tf.keras.preprocessing.sequence.pad_sequences(tokenized_headlines, maxlen=200)\n",
    "\n",
    "try:\n",
    "\n",
    "   # Predict using the model\n",
    "    predictions = model.predict(padded_headlines)\n",
    "    predicted_categories = [np.argmax(prediction) for prediction in predictions]\n",
    "\n",
    "# Print predictions with labels\n",
    "    for headline, category in zip(news_headlines, predicted_categories):\n",
    "        print(f\"Headline: {headline}\\nPredicted Category: {label_names[category]}\\n\")\n",
    "except Exception as e:\n",
    "    print(f\"An error occurred during prediction: {e}\")"
   ]
  },
  {
   "cell_type": "markdown",
   "metadata": {},
   "source": [
    "## TODO 4: Create a new model\n",
    "Try to improve the RNN model, of implement a CNN (with 1D convolution layers), that beats the baseline RNN"
   ]
  },
  {
   "cell_type": "code",
   "execution_count": 20,
   "metadata": {},
   "outputs": [
    {
     "name": "stdout",
     "output_type": "stream",
     "text": [
      "Model: \"sequential\"\n",
      "_________________________________________________________________\n",
      " Layer (type)                Output Shape              Param #   \n",
      "=================================================================\n",
      " embedding (Embedding)       (None, 200, 16)           80000     \n",
      "                                                                 \n",
      " conv1d (Conv1D)             (None, 196, 128)          10368     \n",
      "                                                                 \n",
      " global_max_pooling1d (Glob  (None, 128)               0         \n",
      " alMaxPooling1D)                                                 \n",
      "                                                                 \n",
      " dense (Dense)               (None, 10)                1290      \n",
      "                                                                 \n",
      " dense_1 (Dense)             (None, 4)                 44        \n",
      "                                                                 \n",
      "=================================================================\n",
      "Total params: 91702 (358.21 KB)\n",
      "Trainable params: 91702 (358.21 KB)\n",
      "Non-trainable params: 0 (0.00 Byte)\n",
      "_________________________________________________________________\n"
     ]
    }
   ],
   "source": [
    "# TODO 4: YOUR CODE HERE\n",
    "import tensorflow as tf\n",
    "from tensorflow.keras.preprocessing.text import Tokenizer\n",
    "from tensorflow.keras.preprocessing.sequence import pad_sequences\n",
    "from tensorflow.keras.models import Sequential\n",
    "from tensorflow.keras.layers import Embedding, LSTM, Bidirectional, Dense\n",
    "from sklearn.model_selection import train_test_split\n",
    "from sklearn.metrics import classification_report, accuracy_score, confusion_matrix\n",
    "\n",
    "\n",
    "# Tokenization and padding\n",
    "tokenizer = Tokenizer(num_words=5000, oov_token=\"<OOV>\")\n",
    "tokenizer.fit_on_texts(train_data[\"Description\"])\n",
    "\n",
    "\n",
    "# Prepare the sequences\n",
    "train_sequences = tokenizer.texts_to_sequences(train_data[\"Description\"])\n",
    "train_padded = pad_sequences(train_sequences, maxlen=200)\n",
    "\n",
    "test_sequences = tokenizer.texts_to_sequences(test_data[\"Description\"])\n",
    "test_padded = pad_sequences(test_sequences, maxlen=200)\n",
    "\n",
    "# Clearing previous model from the session\n",
    "tf.keras.backend.clear_session()\n",
    "\n",
    "# Original CNN model architecture\n",
    "cnn_model = Sequential([\n",
    "    Embedding(5000, 16, input_length=200),\n",
    "    Conv1D(128, 5, activation='relu'),\n",
    "    GlobalMaxPooling1D(),\n",
    "    Dense(10, activation='relu'),\n",
    "    Dense(4, activation='softmax')\n",
    "])\n",
    "\n",
    "# Compile the original CNN model\n",
    "cnn_model.compile(loss='sparse_categorical_crossentropy', optimizer='adam', metrics=['accuracy'])\n",
    "cnn_model.summary()\n",
    "\n"
   ]
  },
  {
   "cell_type": "code",
   "execution_count": 21,
   "metadata": {},
   "outputs": [
    {
     "name": "stdout",
     "output_type": "stream",
     "text": [
      "Model: \"sequential_1\"\n",
      "_________________________________________________________________\n",
      " Layer (type)                Output Shape              Param #   \n",
      "=================================================================\n",
      " embedding_1 (Embedding)     (None, 200, 16)           80000     \n",
      "                                                                 \n",
      " conv1d_1 (Conv1D)           (None, 196, 128)          10368     \n",
      "                                                                 \n",
      " global_max_pooling1d_1 (Gl  (None, 128)               0         \n",
      " obalMaxPooling1D)                                               \n",
      "                                                                 \n",
      " dense_2 (Dense)             (None, 10)                1290      \n",
      "                                                                 \n",
      " dense_3 (Dense)             (None, 4)                 44        \n",
      "                                                                 \n",
      "=================================================================\n",
      "Total params: 91702 (358.21 KB)\n",
      "Trainable params: 91702 (358.21 KB)\n",
      "Non-trainable params: 0 (0.00 Byte)\n",
      "_________________________________________________________________\n",
      "Epoch 1/10\n",
      "3375/3375 [==============================] - 53s 15ms/step - loss: 0.3966 - accuracy: 0.8631 - val_loss: 0.3056 - val_accuracy: 0.8931\n",
      "Epoch 2/10\n",
      "3375/3375 [==============================] - 50s 15ms/step - loss: 0.2721 - accuracy: 0.9076 - val_loss: 0.2963 - val_accuracy: 0.8950\n",
      "Epoch 3/10\n",
      "3375/3375 [==============================] - 52s 15ms/step - loss: 0.2323 - accuracy: 0.9203 - val_loss: 0.3019 - val_accuracy: 0.8932\n",
      "Epoch 4/10\n",
      "3375/3375 [==============================] - 52s 15ms/step - loss: 0.1957 - accuracy: 0.9329 - val_loss: 0.3169 - val_accuracy: 0.8908\n",
      "Epoch 5/10\n",
      "3375/3375 [==============================] - 54s 16ms/step - loss: 0.1615 - accuracy: 0.9442 - val_loss: 0.3603 - val_accuracy: 0.8825\n",
      "Epoch 6/10\n",
      "3375/3375 [==============================] - 51s 15ms/step - loss: 0.1291 - accuracy: 0.9562 - val_loss: 0.3987 - val_accuracy: 0.8798\n",
      "Epoch 7/10\n",
      "3375/3375 [==============================] - 50s 15ms/step - loss: 0.1044 - accuracy: 0.9640 - val_loss: 0.4492 - val_accuracy: 0.8783\n",
      "Epoch 8/10\n",
      "3375/3375 [==============================] - 49s 15ms/step - loss: 0.0852 - accuracy: 0.9711 - val_loss: 0.5011 - val_accuracy: 0.8662\n",
      "Epoch 9/10\n",
      "3375/3375 [==============================] - 49s 14ms/step - loss: 0.0704 - accuracy: 0.9763 - val_loss: 0.5533 - val_accuracy: 0.8682\n",
      "Epoch 10/10\n",
      "3375/3375 [==============================] - 49s 14ms/step - loss: 0.0608 - accuracy: 0.9796 - val_loss: 0.6187 - val_accuracy: 0.8654\n"
     ]
    }
   ],
   "source": [
    "from tensorflow.keras.layers import Conv1D, GlobalMaxPooling1D\n",
    "\n",
    "# CNN model\n",
    "cnn_model = Sequential([\n",
    "    Embedding(5000, 16, input_length=200),\n",
    "    Conv1D(128, 5, activation='relu'),\n",
    "    GlobalMaxPooling1D(),\n",
    "    Dense(10, activation='relu'),\n",
    "    Dense(4, activation='softmax')\n",
    "])\n",
    "\n",
    "cnn_model.compile(loss='sparse_categorical_crossentropy', optimizer='adam', metrics=['accuracy'])\n",
    "cnn_model.summary()\n",
    "\n",
    "# Train CNN model\n",
    "cnn_history = cnn_model.fit(train_padded, train_data[\"Class Index\"], epochs=10, validation_split=0.1)\n"
   ]
  },
  {
   "cell_type": "markdown",
   "metadata": {},
   "source": [
    "--- \n",
    "\n",
    "This cell goes to the very bottom of your submitted notebok.\n",
    "You are requried to link the sources and web-links that you have used for various parts of this coursework. \n",
    "\n",
    "Write them sources used in the following format similar to the first examle in the sources list below :\n",
    "\n",
    "    - what you have used them for : web-link\n",
    "\n",
    "Sources:\n",
    "\n",
    "- Implement a recurrent neural network : https://peterroelants.github.io/posts/rnn-implementation-part01/"
   ]
  }
 ],
 "metadata": {
  "kernelspec": {
   "display_name": "Python 3 (ipykernel)",
   "language": "python",
   "name": "python3"
  },
  "language_info": {
   "codemirror_mode": {
    "name": "ipython",
    "version": 3
   },
   "file_extension": ".py",
   "mimetype": "text/x-python",
   "name": "python",
   "nbconvert_exporter": "python",
   "pygments_lexer": "ipython3",
   "version": "3.9.7"
  },
  "vscode": {
   "interpreter": {
    "hash": "977335c72b126e3991b9de8b6fc74c7a8bf9097191ab51ecd2769bb8eacdf950"
   }
  }
 },
 "nbformat": 4,
 "nbformat_minor": 2
}
