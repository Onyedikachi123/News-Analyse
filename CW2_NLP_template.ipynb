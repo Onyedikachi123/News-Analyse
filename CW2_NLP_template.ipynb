{
 "cells": [
  {
   "cell_type": "markdown",
   "metadata": {},
   "source": [
    "# CW2: Natural Language Processing: Classification of News Articles\n",
    "This coursework extends Lab 8, using the content of news articles to classify them into one of the 4 following categories: `World, Sports, Business, Sci/Tech`.\n",
    "\n",
    "The original data source is http://groups.di.unipi.it/~gulli/AG_corpus_of_news_articles.html. You do not need to download the data from those websites, it has been made available on GCU learn in the compressed file 'news_dataset.zip', you simply need to download and extract it. You'll get files *train.csv* and *test.csv*. Place them in the same folder as this notebook (or change the path in `pd.read_csv()` accordingly).\n",
    "\n",
    "Import Conda environmet `lab8_NLP_news.yml`."
   ]
  },
  {
   "cell_type": "code",
   "execution_count": 49,
   "metadata": {},
   "outputs": [
    {
     "name": "stdout",
     "output_type": "stream",
     "text": [
      "Collecting TBB\n",
      "  Using cached tbb-2021.10.0-py2.py3-none-macosx_10_15_x86_64.macosx_11_0_x86_64.whl (640 kB)\n",
      "Installing collected packages: TBB\n",
      "Successfully installed TBB-2021.10.0\n"
     ]
    }
   ],
   "source": [
    "!pip install --upgrade --ignore-installed TBB\n"
   ]
  },
  {
   "cell_type": "code",
   "execution_count": 50,
   "metadata": {},
   "outputs": [
    {
     "name": "stdout",
     "output_type": "stream",
     "text": [
      "Requirement already satisfied: scipy in /Users/mac/opt/anaconda3/lib/python3.9/site-packages (1.11.4)\n",
      "Requirement already satisfied: numba in /Users/mac/opt/anaconda3/lib/python3.9/site-packages (0.54.1)\n",
      "Collecting numba\n",
      "  Using cached numba-0.58.1-cp39-cp39-macosx_10_9_x86_64.whl (2.6 MB)\n",
      "Requirement already satisfied: daal4py in /Users/mac/opt/anaconda3/lib/python3.9/site-packages (2021.3.0)\n",
      "Collecting daal4py\n",
      "  Using cached daal4py-2023.2.1-py39-none-macosx_10_15_x86_64.macosx_11_0_x86_64.whl (2.7 MB)\n",
      "Requirement already satisfied: numpy<1.28.0,>=1.21.6 in /Users/mac/opt/anaconda3/lib/python3.9/site-packages (from scipy) (1.26.2)\n",
      "Collecting llvmlite<0.42,>=0.41.0dev0\n",
      "  Using cached llvmlite-0.41.1-cp39-cp39-macosx_10_9_x86_64.whl (31.0 MB)\n",
      "Collecting daal==2023.2.1\n",
      "  Using cached daal-2023.2.1-py2.py3-none-macosx_10_15_x86_64.macosx_11_0_x86_64.whl (40.9 MB)\n",
      "Requirement already satisfied: tbb==2021.* in /Users/mac/opt/anaconda3/lib/python3.9/site-packages (from daal==2023.2.1->daal4py) (2021.10.0)\n",
      "Installing collected packages: llvmlite, daal, numba, daal4py\n",
      "  Attempting uninstall: llvmlite\n",
      "    Found existing installation: llvmlite 0.37.0\n",
      "    Uninstalling llvmlite-0.37.0:\n",
      "      Successfully uninstalled llvmlite-0.37.0\n",
      "  Attempting uninstall: numba\n",
      "    Found existing installation: numba 0.54.1\n",
      "    Uninstalling numba-0.54.1:\n",
      "      Successfully uninstalled numba-0.54.1\n",
      "  Attempting uninstall: daal4py\n",
      "    Found existing installation: daal4py 2021.3.0\n",
      "    Uninstalling daal4py-2021.3.0:\n",
      "      Successfully uninstalled daal4py-2021.3.0\n",
      "Successfully installed daal-2023.2.1 daal4py-2023.2.1 llvmlite-0.41.1 numba-0.58.1\n"
     ]
    }
   ],
   "source": [
    "!pip install --upgrade scipy numba daal4py\n"
   ]
  },
  {
   "cell_type": "code",
   "execution_count": 56,
   "metadata": {},
   "outputs": [],
   "source": [
    "import numpy as np\n",
    "import matplotlib.pyplot as plt\n",
    "import pandas as pd\n",
    "import re\n",
    "import seaborn as sns\n",
    "import nltk\n",
    "from nltk.corpus import stopwords\n",
    "from sklearn.metrics import confusion_matrix, classification_report, accuracy_score, classification_report\n",
    "from sklearn.model_selection import train_test_split\n",
    "from tensorflow.keras.layers import (\n",
    "    TextVectorization,\n",
    "    Embedding,\n",
    "    LSTM,\n",
    "    Bidirectional,\n",
    "    Dense,\n",
    "    Embedding,\n",
    "    Conv1D, \n",
    "    GlobalMaxPooling1D\n",
    ")\n",
    "import tensorflow.keras\n",
    "from tensorflow.keras.models import Sequential\n",
    "from sklearn.feature_selection import SelectKBest, f_classif\n",
    "from sklearn.feature_extraction.text import TfidfVectorizer\n",
    "from sklearn.neighbors import KNeighborsClassifier"
   ]
  },
  {
   "cell_type": "markdown",
   "metadata": {},
   "source": [
    "# 1. Data preparation\n",
    "Import data. "
   ]
  },
  {
   "cell_type": "code",
   "execution_count": 57,
   "metadata": {},
   "outputs": [],
   "source": [
    "# Importing the dataset. As done in lab 4, you usually have a look at the data. Here we simply show the first 5 rows\n",
    "#train_data = pd.read_csv(\"train.csv\")\n",
    "#test_data = pd.read_csv(\"test.csv\")\n",
    "#print(train_data.head(5))\n",
    "import pandas as pd\n",
    "try:\n",
    "    # Load the dataset\n",
    "    train_data = pd.read_csv(\"train.csv\")\n",
    "    test_data = pd.read_csv(\"test.csv\")\n",
    "except FileNotFoundError:\n",
    "    print(\"Files not found. Please check the file paths.\")\n",
    "    # Exit if files not found to avoid further errors\n",
    "    raise\n",
    "    \n"
   ]
  },
  {
   "cell_type": "code",
   "execution_count": 58,
   "metadata": {},
   "outputs": [
    {
     "name": "stdout",
     "output_type": "stream",
     "text": [
      "3    30000\n",
      "4    30000\n",
      "2    30000\n",
      "1    30000\n",
      "Name: Class Index, dtype: int64\n"
     ]
    }
   ],
   "source": [
    "# Check class distribution in the training data\n",
    "class_distribution = train_data['Class Index'].value_counts()\n",
    "print(class_distribution)"
   ]
  },
  {
   "cell_type": "markdown",
   "metadata": {},
   "source": [
    "# Oversampling: \n",
    "Increase the number of samples in the minority classes by duplicating them or using techniques like SMOTE (Synthetic Minority Over-sampling Technique). This can sometimes lead to overfitting but is often preferable to losing data."
   ]
  },
  {
   "cell_type": "code",
   "execution_count": 59,
   "metadata": {},
   "outputs": [],
   "source": [
    "from sklearn.utils import resample\n",
    "\n",
    "# Separate the dataset into different class datasets\n",
    "df_world = train_data[train_data['Class Index'] == 0]\n",
    "df_sports = train_data[train_data['Class Index'] == 1]\n",
    "df_business = train_data[train_data['Class Index'] == 2]\n",
    "df_scitech = train_data[train_data['Class Index'] == 3]\n",
    "\n",
    "# Find the number of samples in the largest class\n",
    "max_size = train_data['Class Index'].value_counts().max()\n",
    "\n",
    "# Oversample the other classes to match the largest one\n",
    "df_sports_upsampled = resample(df_sports, replace=True, n_samples=max_size, random_state=123)\n",
    "df_business_upsampled = resample(df_business, replace=True, n_samples=max_size, random_state=123)\n",
    "df_scitech_upsampled = resample(df_scitech, replace=True, n_samples=max_size, random_state=123)\n",
    "\n",
    "# Combine the upsampled datasets with the largest class dataset\n",
    "train_data_balanced = pd.concat([df_world, df_sports_upsampled, df_business_upsampled, df_scitech_upsampled])\n",
    "\n",
    "# Shuffle the dataset\n",
    "train_data_balanced = train_data_balanced.sample(frac=1, random_state=123).reset_index(drop=True)\n"
   ]
  },
  {
   "cell_type": "markdown",
   "metadata": {},
   "source": [
    "Change labels from 1-4 to 0-3"
   ]
  },
  {
   "cell_type": "code",
   "execution_count": 60,
   "metadata": {},
   "outputs": [],
   "source": [
    "# substract 1 from the target variable for both, train and test data\n",
    "train_data[\"Class Index\"] = train_data[\"Class Index\"] - 1\n",
    "test_data[\"Class Index\"] = test_data[\"Class Index\"] - 1\n",
    "label_names = [\"World\", \"Sports\", \"Business\", \"Sci/Tech\"] # 0 is \"World\", 1 is \"Sports\", ..."
   ]
  },
  {
   "cell_type": "markdown",
   "metadata": {},
   "source": [
    "# Checking the Format and Data Type of Test Labels\n",
    "\n",
    "Verifying that the labels in our test dataset follow the anticipated format is crucial before moving on with model training and assessment. This step guarantees that the evaluation of our model will be accurate in the future.\n",
    "\n",
    "The checks listed below are carried out:\n",
    "\n",
    "# Label Preview: \n",
    "Showing the test_data DataFrame's Class Index column's initial few items. We can quickly validate that the label transformation (from 1-4 to 0-3) was effective with this preview.\n",
    "\n",
    "# Data Type Check: \n",
    "Confirming the Class Index column's data type. These labels need to be in an integer format in order for our model and evaluation techniques to function properly."
   ]
  },
  {
   "cell_type": "code",
   "execution_count": 61,
   "metadata": {},
   "outputs": [
    {
     "name": "stdout",
     "output_type": "stream",
     "text": [
      "0    2\n",
      "1    3\n",
      "2    3\n",
      "3    3\n",
      "4    3\n",
      "Name: Class Index, dtype: int64\n",
      "Data type: int64\n"
     ]
    }
   ],
   "source": [
    "print(test_data[\"Class Index\"].head())\n",
    "print(\"Data type:\", test_data[\"Class Index\"].dtype)\n"
   ]
  },
  {
   "cell_type": "markdown",
   "metadata": {},
   "source": [
    "## Preprocessing \n",
    "\n",
    "Lowercase descriptions and clean up non-letter characters.\n",
    "\n",
    "**TODO 1**: Remove the occurences of \"http\" \"href\", \"https\" and \"www\". Also, remove the names of the news agencies (Reuters, AP, ...) from the datasets."
   ]
  },
  {
   "cell_type": "code",
   "execution_count": 63,
   "metadata": {},
   "outputs": [],
   "source": [
    "# Function to preprocess the data\n",
    "import re\n",
    "    \n",
    "def preprocess_text(string):\n",
    "    # Remove URLs\n",
    "    string = re.sub(r'https?://\\S+|www\\.\\S+', '', string)\n",
    "    \n",
    "    # Remove HTML tags\n",
    "    string = re.sub(r'<.*?>', '', string)\n",
    "    \n",
    "    # Remove special characters\n",
    "    string = re.sub(r'[^a-zA-Z\\s]', '', string, re.I|re.A)\n",
    "    \n",
    "    # Lowercasing\n",
    "    string = string.lower()\n",
    "    \n",
    "    # Remove news agencies' names\n",
    "    agencies = ['Reuters', 'AP', 'BBC']\n",
    "    for agency in agencies:\n",
    "        string = string.replace(agency.lower(), '')\n",
    "    \n",
    "    return string\n",
    "\n",
    "# Apply the preprocessing\n",
    "try:\n",
    "    train_data['Description'] = train_data['Description'].apply(preprocess_text).apply(stem_text)\n",
    "    test_data['Description'] = test_data['Description'].apply(preprocess_text).apply(stem_text)\n",
    "except NameError as e:\n",
    "    print(f\"An error occurred: {e}\")"
   ]
  },
  {
   "cell_type": "markdown",
   "metadata": {},
   "source": [
    "Convert dataframes to lists (needed for further functions)."
   ]
  },
  {
   "cell_type": "code",
   "execution_count": 64,
   "metadata": {},
   "outputs": [],
   "source": [
    "train_data_list = train_data[\"Description\"].tolist()\n",
    "test_data_list = test_data[\"Description\"].tolist()\n",
    "train_labels_list = train_data[\"Class Index\"].tolist()\n",
    "test_labels_list = test_data[\"Class Index\"].tolist()"
   ]
  },
  {
   "cell_type": "markdown",
   "metadata": {},
   "source": [
    "Create validation set (taking out 20% of test set)"
   ]
  },
  {
   "cell_type": "code",
   "execution_count": 65,
   "metadata": {},
   "outputs": [],
   "source": [
    "(train_data_list, validation_data_list,\n",
    " train_labels_list, validation_labels_list) = train_test_split(train_data_list, train_labels_list, test_size=0.2, stratify=train_labels_list)"
   ]
  },
  {
   "cell_type": "markdown",
   "metadata": {},
   "source": [
    "### Removing Stop Words\n",
    "Remove stopwords from the *stopword* corpus."
   ]
  },
  {
   "cell_type": "code",
   "execution_count": 66,
   "metadata": {},
   "outputs": [],
   "source": [
    "from nltk.stem import PorterStemmer\n",
    "from nltk.tokenize import word_tokenize\n",
    "\n",
    "def stem_text(text):\n",
    "    stemmer = PorterStemmer()\n",
    "    words = word_tokenize(text)\n",
    "    return ' '.join([stemmer.stem(word) for word in words])"
   ]
  },
  {
   "cell_type": "code",
   "execution_count": 67,
   "metadata": {},
   "outputs": [],
   "source": [
    "train_data_list = remove_stopwords(train_data_list)\n",
    "validation_data_list = remove_stopwords(validation_data_list)\n",
    "test_data_list = remove_stopwords(test_data_list)"
   ]
  },
  {
   "cell_type": "markdown",
   "metadata": {},
   "source": [
    "### TODO 2: STEMMING\n",
    "Use **Stemming** or **Lemmatization** to grammatical word variations."
   ]
  },
  {
   "cell_type": "code",
   "execution_count": 68,
   "metadata": {},
   "outputs": [
    {
     "name": "stderr",
     "output_type": "stream",
     "text": [
      "[nltk_data] Downloading package stopwords to /Users/mac/nltk_data...\n",
      "[nltk_data]   Package stopwords is already up-to-date!\n"
     ]
    }
   ],
   "source": [
    "# TODO 2: YOUR CODE HERE\n",
    "import nltk\n",
    "from nltk.stem import PorterStemmer\n",
    "from nltk.corpus import stopwords\n",
    "\n",
    "nltk.download('stopwords')\n",
    "stop_words = set(stopwords.words('english'))\n",
    "stemmer = PorterStemmer()\n",
    "\n",
    "def stem_text(text):\n",
    "    return \" \".join([stemmer.stem(word) for word in text.split() if word not in stop_words])\n",
    "\n",
    "train_data[\"Description\"] = train_data[\"Description\"].apply(stem_text)\n",
    "test_data[\"Description\"] = test_data[\"Description\"].apply(stem_text)\n"
   ]
  },
  {
   "cell_type": "markdown",
   "metadata": {},
   "source": [
    "## 2. Recurrent Neural Network classifier with Keras and Tensorflow"
   ]
  },
  {
   "cell_type": "markdown",
   "metadata": {},
   "source": [
    "One-hot encode the labels (0 -> 0001, 1 -> 0010, ...) to match NN classifier head output."
   ]
  },
  {
   "cell_type": "code",
   "execution_count": 69,
   "metadata": {},
   "outputs": [
    {
     "name": "stdout",
     "output_type": "stream",
     "text": [
      "(96000, 4)\n"
     ]
    }
   ],
   "source": [
    "# the labels are of value 0, 1, 2, 3. We need to convert them to one-hot encoded vectors\n",
    "\n",
    "import tensorflow as tf\n",
    "import numpy as np\n",
    "\n",
    "# Assuming train_labels_list, validation_labels_list, and test_labels_list are already defined\n",
    "train_labels = tf.keras.utils.to_categorical(np.array(train_labels_list), num_classes=4)\n",
    "validation_labels = tf.keras.utils.to_categorical(np.array(validation_labels_list), num_classes=4)\n",
    "test_labels = tf.keras.utils.to_categorical(np.array(test_labels_list), num_classes=4)\n",
    "\n",
    "print(train_labels.shape)\n",
    "\n",
    "#train_labels = tensorflow.keras.utils.to_categorical(np.array(train_labels_list), num_classes=4)\n",
    "#validation_labels = tensorflow.keras.utils.to_categorical(np.array(validation_labels_list), num_classes=4)\n",
    "#test_labels = tensorflow.keras.utils.to_categorical(np.array(test_labels_list), num_classes=4)\n",
    "#print(train_labels.shape)"
   ]
  },
  {
   "cell_type": "markdown",
   "metadata": {},
   "source": [
    "First we use the TextVectorization layer to convert the text to a sequence of integers. You can read about how this works  [here](https://www.tensorflow.org/api_docs/python/tf/keras/layers/TextVectorization).\n"
   ]
  },
  {
   "cell_type": "code",
   "execution_count": 70,
   "metadata": {},
   "outputs": [
    {
     "name": "stdout",
     "output_type": "stream",
     "text": [
      "['', '[UNK]', 'said', 'new', 'us', 'year', 'compani', 'two', 'first', 'wednesday', 'monday', 'world', 'tuesday', 'thursday', 'inc', 'one', 'friday', 'report', 'week', 'game', 'state', 'yesterday', 'last', 'york', 'say', 'presid', 'quot', 'unit', 'million', 'nation', 'corp', 'price', 'time', 'plan', 'day', 'sunday', 'govern', 'offici', 'oil', 'secur', 'group', 'would', 'announc', 'peopl', 'today', 'servic', 'three', 'team', 'month', 'could', 'market', 'iraq', 'win', 'kill', 'percent', 'open', 'saturday', 'night', 'softwar', 'next', 'use', 'end', 'minist', 'season', 'second', 'busi', 'microsoft', 'countri', 'comput', 'make', 'intern', 'lead', 'back', 'expect', 'share', 'network', 'help', 'internet', 'take', 'technolog', 'system', 'record', 'stock', 'washington', 'billion', 'sale', 'may', 'american', 'research', 'citi', 'leader', 'former', 'releas', 'final', 'victori', 'feder', 'home', 'offer', 'top', 'manag', 'attack', 'run', 'bank', 'start', 'forc', 'giant', 'elect', 'player', 'call', 'news', 'trade', 'four', 'european', 'move', 'oper', 'product', 'san', 'major', 'like', 'afp', 'maker', 'get', 'point', 'leagu', 'show', 'industri', 'profit', 'accord', 'set', 'play', 'execut', 'chief', 'prime', 'deal', 'includ', 'third', 'china', 'sport', 'bush', 'develop', 'made', 'least', 'court', 'launch', 'onlin', 'coach', 'agre', 'olymp', 'gener', 'co', 'work', 'hit', 'search', 'largest', 'seri', 'charg', 'london', 'cup', 'talk', 'href', 'champion', 'phone', 'way', 'iraqi', 'british', 'test', 'lta', 'polic', 'sinc', 'high', 'anoth', 'look', 'south', 'offic', 'go', 'union', 'close', 'cut', 'job', 'power', 'quarter', 'palestinian', 'head', 'john', 'red', 'continu', 'five', 'sign', 'music', 'come', 'provid', 'jan', 'meet', 'hope', 'space', 'dollar', 'even', 'part', 'earn', 'baghdad', 'increas', 'claim', 'earli', 'score', 'face', 'left', 'militari', 'mobil', 'bid', 'rule', 'firm', 'return', 'warn', 'follow', 'tri', 'web', 'india', 'beat', 'loss', 'bomb', 'give', 'rival', 'right', 'rose', 'rate', 'mani', 'consum', 'north', 'file', 'drug', 'investor', 'buy', 'hold', 'war', 'support', 'number', 'retail', 'ago', 'store', 'still', 'user', 'reach', 'demand', 'street', 'man', 'recent', 'championship', 'program', 'agenc', 'cost', 'wireless', 'associ', 'un', 'data', 'result', 'region', 'latest', 'growth', 'put', 'athen', 'biggest', 'rise', 'googl', 'want', 'australia', 'boston', 'airlin', 'race', 'public', 'higher', 'england', 'line', 'remain', 'vote', 'big', 'global', 'isra', 'found', 'commun', 'turn', 'allow', 'car', 'rais', 'foreign', 'financi', 'air', 'post', 'footbal', 'nuclear', 'custom', 'west', 'milit', 'chang', 'issu', 'sell', 'much', 'econom', 'pay', 'six', 'round', 'window', 'version', 'need', 'sever', 'th', 'site', 'becom', 'effort', 'nearli', 'name', 'press', 'francisco', 'gold', 'fell', 'angel', 'ibm', 'held', 'took', 'fire', 'despit', 'futur', 'past', 'contract', 'per', 'engin', 'univers', 'america', 'worker', 'hous', 'troop', 'place', 'key', 'economi', 'presidenti', 'fight', 'mark', 'near', 'defens', 'also', 'investig', 'parti', 'commiss', 'sox', 'russian', 'titl', 'around', 'concern', 'keep', 'gain', 'campaign', 'scientist', 'begin', 'agreement', 'ple', 'ahead', 'possibl', 'strong', 'sourc', 'chicago', 'cital', 'miss', 'wall', 'tokyo', 'octob', 'member', 'hurrican', 'polit', 'pc', 'order', 'free', 'good', 'drop', 'long', 'interest', 'match', 'field', 'septemb', 'men', 'pass', 'accus', 'chip', 'step', 'gaza', 'receiv', 'fall', 'ad', 'depart', 'fund', 'europ', 'author', 'late', 'video', 'australian', 'media', 'design', 'center', 'lower', 'school', 'devic', 'franc', 'russia', 'bill', 'seven', 'aim', 'build', 'decis', 'might', 'confer', 'yard', 'prove', 'half', 'corpor', 'st', 'server', 'well', 'profil', 'michael', 'peac', 'electron', 'control', 'find', 'fourth', 'case', 'star', 'digit', 'rebel', 'whether', 'battl', 'french', 'crude', 'lo', 'fan', 'person', 'oracl', 'northern', 'invest', 'inform', 'death', 'canadian', 'due', 'leav', 'central', 'propos', 'florida', 'told', 'target', 'southern', 'pakistan', 'janes', 'reserv', 'boost', 'produc', 'thirdquart', 'email', 'fail', 'board', 'novemb', 'creat', 'hand', 'energi', 'club', 'improv', 'yanke', 'die', 'intel', 'suppli', 'britain', 'away', 'without', 'televis', 'hour', 'posit', 'base', 'analyst', 'ask', 'injur', 'alleg', 'see', 'chairman', 'best', 'weekend', 'shot', 'plicat', 'california', 'administr', 'across', 'yearold', 'problem', 'perform', 'iran', 'amp', 'grow', 'israel', 'soldier', 'regul', 'uk', 'nasa', 'pear', 'hostag', 'organ', 'women', 'question', 'littl', 'visit', 'challeng', 'strike', 'life', 'judg', 'stop', 'protect', 'armi', 'account', 'sun', 'complet', 'arrest', 'straight', 'ralli', 'morn', 'lost', 'exchang', 'success', 'trial', 'insur', 'forecast', 'medal', 'democrat', 'area', 'prepar', 'oct', 'attempt', 'caus', 'quarterli', 'peoplesoft', 'decid', 'stadium', 'push', 'drive', 'revenu', 'histori', 'thousand', 'eight', 'senior', 'low', 'almost', 'touchdown', 'parent', 'led', 'suspect', 'david', 'critic', 'wound', 'goal', 'competit', 'believ', 'live', 'aid', 'list', 'join', 'law', 'houston', 'net', 'basebal', 'divis', 'kerri', 'arm', 'action', 'studi', 'korea', 'health', 'terror', 'spend', 'among', 'linux', 'defeat', 'grand', 'tax', 'william', 'side', 'human', 'bring', 'began', 'euro', 'advanc', 'access', 'threaten', 'food', 'consid', 'ltd', 'manufactur', 'inning', 'barrel', 'send', 'threat', 'secretari', 'nov', 'popular', 'small', 'came', 'fear', 'texa', 'august', 'seek', 'toward', 'east', 'earlier', 'better', 'behind', 'got', 'toronto', 'less', 'fuel', 'explos', 'arafat', 'amid', 'lawsuit', 'emerg', 'main', 'cent', 'publish', 'prison', 'germani', 'declin', 'famili', 'quarterback', 'flight', 'alreadi', 'acquir', 'offens', 'watch', 'privat', 'level', 'process', 'larg', 'darfur', 'project', 'term', 'struggl', 'defend', 'negoti', 'bodi', 'opposit', 'arsen', 'yet', 'pari', 'extend', 'initi', 'sept', 'gave', 'real', 'local', 'outsid', 'bankruptci', 'afghanistan', 'confirm', 'chines', 'station', 'pull', 'doubl', 'ban', 'unveil', 'lose', 'chanc', 'canada', 'georg', 'carri', 'cash', 'takeov', 'minut', 'employe', 'white', 'german', 'nine', 'indian', 'featur', 'director', 'western', 'tour', 'financ', 'ever', 'current', 'import', 'replac', 'avail', 'activ', 'storm', 'sudan', 'radio', 'island', 'event', 'cell', 'within', 'tie', 'old', 'insurg', 'break', 'promis', 'injuri', 'standard', 'clear', 'bay', 'violenc', 'green', 'soon', 'jump', 'travel', 'far', 'paul', 'money', 'enough', 'desktop', 'motor', 'messag', 'hospit', 'guard', 'arriv', 'weon', 'polici', 'legal', 'involv', 'hundr', 'expand', 'muslim', 'manchest', 'peal', 'let', 'african', 'train', 'yasser', 'pressur', 'met', 'seem', 'great', 'bowl', 'park', 'finish', 'annual', 'taken', 'ga', 'seattl', 'schedul', 'went', 'pm', 'spain', 'size', 'soni', 'export', 'dead', 'survey', 'know', 'worri', 'updat', 'stand', 'protest', 'introduc', 'council', 'africa', 'slow', 'decad', 'urg', 'suggest', 'strip', 'qualifi', 'coast', 'stake', 'reduc', 'effect', 'al', 'figur', 'practic', 'tv', 'link', 'beij', 'toni', 'terrorist', 'heart', 'card', 'retir', 'host', 'holiday', 'candid', 'surg', 'reject', 'delay', 'cp', 'thing', 'expert', 'career', 'madrid', 'islam', 'must', 'equip', 'enter', 'stage', 'think', 'resign', 'owner', 'potenti', 'colleg', 'troubl', 'ipod', 'download', 'miami', 'track', 'settl', 'children', 'reveal', 'medic', 'tournament', 'moscow', 'suffer', 'everi', 'save', 'crash', 'rocket', 'respons', 'known', 'atlanta', 'italian', 'town', 'risk', 'nfl', 'movi', 'lift', 'enterpris', 'imag', 'surpris', 'heat', 'basketbal', 'sent', 'g', 'domin', 'never', 'labor', 'disput', 'worth', 'yahoo', 'damag', 'poll', 'water', 'pitch', 'eu', 'suspend', 'express', 'machin', 'form', 'readi', 'rank', 'carrier', 'tool', 'ship', 'shop', 'estim', 'sold', 'relat', 'tiger', 'jet', 'detroit', 'newsper', 'seen', 'pick', 'philadelphia', 'land', 'book', 'stay', 'illeg', 'award', 'full', 'ground', 'averag', 'statement', 'cite', 'controversi', 'blue', 'ctain', 'eas', 'connect', 'short', 'benefit', 'plant', 'wide', 'playoff', 'calif', 'brown', 'confid', 'staff', 'kidnp', 'later', 'repres', 'processor', 'discuss', 'ceo', 'winter', 'special', 'though', 'outlook', 'differ', 'suicid', 'fresh', 'withdraw', 'singl', 'black', 'tech', 'republican', 'mike', 'aug', 'decemb', 'spokesman', 'loui', 'jone', 'celebr', 'camp', 'partner', 'steve', 'block', 'mission', 'avoid', 'satellit', 'total', 'road', 'storag', 'given', 'browser', 'hard', 'blair', 'winner', 'speed', 'plane', 'homer', 'advertis', 'sharehold', 'forward', 'deliv', 'young', 'singor', 'earth', 'airway', 'purchas', 'acquisit', 'abl', 'senat', 'airport', 'accept', 'thought', 'edg', 'hotel', 'entertain', 'debt', 'cricket', 'cabl', 'whose', 'focu', 'committe', 'w', 'explor', 'crowd', 'commerci', 'vehicl', 'spot', 'predict', 'light', 'asian', 'measur', 'ivan', 'davi', 'chain', 'draw', 'athlet', 'nasdaq', 'pilot', 'debat', 'wit', 'wait', 'minnesota', 'closer', 'direct', 'check', 'afghan', 'rang', 'evid', 'voter', 'summer', 'safeti', 'memori', 'rebound', 'model', 'huge', 'condit', 'blast', 'roll', 'marin', 'crisi', 'care', 'moon', 'dozen', 'along', 'soccer', 'ireland', 'prize', 'semifin', 'justic', 'johnson', 'middl', 'assist', 'greec', 'sharon', 'hear', 'credit', 'attorney', 'view', 'serv', 'limit', 'deficit', 'becam', 'word', 'interim', 'fraud', 'suit', 'option', 'januari', 'declar', 'cbsmw', 'juli', 'driver', 'content', 'although', 'reason', 'march', 'cours', 'settlement', 'mean', 'jail', 'rest', 'virginia', 'najaf', 'dec', 'xp', 'pound', 'tonight', 'review', 'dow', 'cleric', 'valu', 'cture', 'brand', 'ministri', 'film', 'dvd', 'asia', 'jose', 'electr', 'woman', 'quit', 'role', 'consecut', 'hole', 'upgrad', 'lawyer', 'congress', 'border', 'indic', 'zealand', 'mile', 'immedi', 'brought', 'ryder', 'clash', 'age', 'nba', 'inflat', 'singh', 'merger', 'golf', 'pictur', 'detail', 'vendor', 'roger', 'itali', 'fifth', 'eye', 'striker', 'fine', 'dispoint', 'bond', 'pack', 'hostil', 'ariel', 'act', 'slightli', 'classic', 'oakland', 'formula', 'scandal', 'resid', 'dell', 'platform', 'photo', 'la', 'mine', 'independ', 'eastern', 'threw', 'rain', 'probe', 'instead', 'debut', 'admit', 'weak', 'sector', 'scienc', 'kept', 'deni', 'aircraft', 'afternoon', 'yuko', 'ten', 'refus', 'master', 'bad', 'violat', 'serifarialhelvetica', 'hill', 'faceverdanam', 'suprem', 'passeng', 'streak', 'heavi', 'explod', 'sharpli', 'saw', 'broadcast', 'asset', 'previou', 'parliament', 'mortgag', 'de', 'victim', 'spacecraft', 'prix', 'diplomat', 'com', 'rush', 'room', 'proach', 'discov', 'agent', 'walk', 'student', 'period', 'solut', 'shiit', 'prosecutor', 'probabl', 'premier', 'delta', 'boe', 'packag', 'pace', 'display', 'compet', 'abus', 'struck', 'fallujah', 'code', 'promot', 'requir', 'king', 'insid', 'tell', 'intellig', 'front', 'camera', 'sentenc', 'patent', 'howard', 'command', 'mass', 'hire', 'conflict', 'chelsea', 'carolina', 'thank', 'rock', 'document', 'cardin', 'soar', 'pitcher', 'format', 'disney', 'cisco', 'brazil', 'wood', 'togeth', 'rout', 'recal', 'plc', 'korean', 'prevent', 'institut', 'insist', 'broadband', 'spanish', 'remov', 'hockey', 'civil', 'incom', 'climb', 'cleveland', 'arab', 'session', 'row', 'provinc', 'kabul', 'integr', 'worldwid', 'signal', 'resum', 'dalla', 'commit', 'abu', 'ran', 'jerusalem', 'danger', 'natur', 'interview', 'delhi', 'vladimir', 'stori', 'spent', 'missil', 'tenni', 'royal', 'kansa', 'jame', 'someth', 'mexico', 'joint', 'hollywood', 'distribut', 'currenc', 'combin', 'ball', 'telephon', 'massiv', 'flood', 'blow', 'blame', 'wave', 'poor', 'employ', 'tehran', 'request', 'read', 'collect', 'boss', 'wind', 'longer', 'sprint', 'murder', 'jason', 'hurt', 'dutch', 'astro', 'assault', 'recov', 'pittsburgh', 'doctor', 'crimin', 'weather', 'sydney', 'seriou', 'pension', 'mar', 'sanction', 'colin', 'walmart', 'panel', 'impact', 'hong', 'feel', 'doubt', 'domest', 'crime', 'trophi', 'tom', 'semiconductor', 'determin', 'tim', 'strategi', 'kong', 'broke', 'yen', 'spam', 'richard', 'patriot', 'nextel', 'indonesia', 'bear', 'treasuri', 'slip', 'pakistani', 'meter', 'write', 'sharp', 'michigan', 'learn', 'eagl', 'taiwan', 'putin', 'box', 'bit', 'tradit', 'separ', 'nokia', 'highest', 'cooper', 'uranium', 'experi', 'diego', 'ventur', 'song', 'planet', 'origin', 'ohio', 'lot', 'fli', 'deploy', 'worst', 'warner', 'trader', 'reform', 'embassi', 'civilian', 'bn', 'auction', 'art', 'addit', 'microsystem', 'baltimor', 'auto', 'studio', 'republ', 'opensourc', 'kick', 'gather', 'licens', 'vice', 'renew', 'matter', 'mac', 'legisl', 'common', 'titan', 'specul', 'raid', 'progress', 'pledg', 'turkey', 'thailand', 'shoot', 'ford', 'cover', 'convent', 'nyse', 'index', 'fix', 'x', 'profession', 'martin', 'count', 'attend', 'veteran', 'tomorrow', 'paid', 'diseas', 'address', 'oppon', 'earthquak', 'vow', 'telecommun', 'guilti', 'edit', 'christma', 'tough', 'resolv', 'halt', 'sure', 'comment', 'atom', 'recoveri', 'handheld', 'surgeri', 'rel', 'refuge', 'arizona', 'warm', 'add', 'fiscal', 'trip', 'pair', 'centuri', 'monitor', 'built', 'adopt', 'twice', 'telecom', 'sea', 'mount', 'conduct', 'chart', 'proval', 'formal', 'copi', 'knee', 'entir', 'bird', 'zone', 'plead', 'instal', 'histor', 'date', 'stewart', 'prospect', 'philippin', 'montreal', 'colls', 'treatment', 'shock', 'seed', 'properti', 'opportun', 'nigeria', 'enrich', 'c', 'andi', 'relief', 'kashmir', 'expo', 'draft', 'sweep', 'signific', 'hewlettpackard', 'deadli', 'vulner', 'voic', 'realli', 'expens', 'crew', 'sen', 'nhl', 'itun', 'dismiss', 'sound', 'grant', 'fla', 'websit', 'previous', 'plu', 'jakarta', 'daili', 'amd', 'alan', 'rooki', 'prompt', 'page', 'demonstr', 'counti', 'prioriti', 'june', 'english', 'disrupt', 'anim', 'teammat', 'speci', 'present', 'mix', 'grew', 'district', 'anaheim', 'surviv', 'robert', 'colorado', 'anticip', 'shift', 'secret', 'often', 'patient', 'el', 'alli', 'watchdog', 'toll', 'su', 'powel', 'noth', 'dolphin', 'convict', 'shut', 'done', 'carlo', 'brussel', 'allianc', 'welcom', 'viru', 'virtual', 'slam', 'truck', 'novel', 'moment', 'magazin', 'journalist', 'impos', 'describ', 'alex', 'familiar', 'rare', 'quickli', 'commission', 'bar', 'wake', 'twin', 'spark', 'screen', 'saudi', 'patch', 'islamabad', 'fast', 'boy', 'antitrust', 'stem', 'defenc', 'coalit', 'budget', 'throw', 'tackl', 'seiz', 'os', 'friend', 'easi', 'dramat', 'crucial', 'ballot', 'saddam', 'payment', 'msn', 'jeff', 'hama', 'sudanes', 'strength', 'portabl', 'karzai', 'irish', 'egypt', 'dream', 'bought', 'utah', 'inventori', 'fill', 'factori', 'climat', 'worm', 'resolut', 'highspe', 'helicopt', 'fighter', 'compar', 'ring', 'restructur', 'resourc', 'quarterfin', 'journal', 'cancel', 'alway', 'ranger', 'individu', 'gulf', 'expans', 'client', 'chase', 'channel', 'affect', 'upcom', 'transport', 'indonesian', 'indianoli', 'hamid', 'dont', 'competitor', 'clinch', 'begun', 'materi', 'liverpool', 'idea', 'cross', 'copyright', 'answer', 'allegedli', 'summit', 'output', 'merck', 'chri', 'barri', 'ag', 'vioxx', 'spread', 'sir', 'radic', 'partnership', 'greek', 'flaw', 'faster', 'deadlin', 'upset', 'sixth', 'orbit', 'opec', 'minor', 'kevin', 'cincinnati', 'astronaut', 'reportedli', 'knock', 'identifi', 'beach', 'quotth', 'hussein', 'certain', 'broker', 'switch', 'pacif', 'exist', 'databas', 'tampa', 'traffic', 'rather', 'nascar', 'enabl', 'disast', 'brother', 'tennesse', 'son', 'seat', 'donald', 'dodger', 'advantag', 'ticker', 'shuttl', 'pro', 'love', 'ill', 'cub', 'specif', 'nl', 'militia', 'ltfont', 'lineup', 'haiti', 'establish', 'cancer', 'smith', 'programm', 'intend', 'firefox', 'f', 'contain', 'celtic', 'cabinet', 'vienna', 'technic', 'premiership', 'oklahoma', 'notr', 'mountain', 'denver', 'catch', 'attent', 'qtypesym', 'newsfactor', 'mutual', 'infotypeinfo', 'increasingli', 'hot', 'dame', 'maintain', 'handset', 'gunmen', 'girl', 'georgia', 'usl', 'strain', 'pt', 'popul', 'plot', 'observ', 'nationwid', 'ivori', 'gone', 'flu', 'craig', 'cheer', 'charl', 'strengthen', 'remot', 'motion', 'joe', 'extra', 'elimin', 'devast', 'choic', 'teenag', 'focus', 'fact', 'facil', 'extens', 'wrong', 'tini', 'situat', 'hunt', 'bomber', 'bell', 'ukrain', 'select', 'nintendo', 'lack', 'eighth', 'cast', 'van', 'territori', 'ottawa', 'musharraf', 'mind', 'loan', 'indiana', 'failur', 'coupl', 'ampt', 'pga', 'ninth', 'mr', 'jacqu', 'hardwar', 'hall', 'deputi', 'walt', 'via', 'speech', 'enron', 'supercomput', 'sought', 'rescu', 'pedro', 'environ', 'villag', 'smaller', 'overnight', 'ongo', 'lawmak', 'larri', 'gari', 'ebay', 'cool', 'construct', 'brave', 'wayn', 'wale', 'unlik', 'tight', 'stun', 'spur', 'seventh', 'safe', 'overal', 'martinez', 'leadership', 'kind', 'jr', 'jersey', 'java', 'founder', 'commerc', 'blood', 'slash', 'similar', 'quota', 'pharmaceut', 'micro', 'desert', 'writer', 'ray', 'holi', 'educ', 'deep', 'airbu', 'abil', 'wonder', 'subscrib', 'smart', 'seoul', 'mozilla', 'harri', 'foot', 'discount', 'berlin', 'recommend', 'oust', 'nikkei', 'newcastl', 'greater', 'governor', 'forest', 'fastest', 'dc', 'achiev', 'wire', 'wild', 'wife', 'ron', 'goe', 'caciti', 'preliminari', 'handl', 'gear', 'broken', 'slide', 'invit', 'falluja', 'brian', 'beyond', 'await', 'allawi', 'virgin', 'treat', 'speak', 'mp', 'favor', 'attract', 'abandon', 'squar', 'sky', 'scott', 'restor', 'ceremoni', 'atlant', 'amount', 'usual', 'unbeaten', 'river', 'grab', 'franchis', 'fish', 'disc', 'conserv', 'bin', 'unless', 'piec', 'pervez', 'marathon', 'lake', 'gate', 'drove', 'contribut', 'organis', 'frank', 'fit', 'destroy', 'scotland', 'orlean', 'hacker', 'flat', 'fee', 'encourag', 'crack', 'combat', 'centr', 'bryant', 'weigh', 'touch', 'saturn', 'preseason', 'pain', 'bangladesh', 'milan', 'flash', 'bu', 'auburn', 'verizon', 'separatist', 'rover', 'protocol', 'overtim', 'note', 'ensur', 'violent', 'ticket', 'steel', 'peter', 'perh', 'jewish', 'instant', 'gun', 'egyptian', 'democraci', 'cloth', 'cingular', 'boom', 'behead', 'surfac', 'massachusett', 'esc', 'cuba', 'surround', 'solid', 'roddick', 'robot', 'postseason', 'owen', 'lock', 'justin', 'jay', 'doesnt', 'contest', 'bob', 'aggress', 'wont', 'trail', 'ident', 'drew', 'corrupt', 'caught', 'washingtonpostcom', 'super', 'sri', 'pose', 'penalti', 'mysteri', 'hat', 'environment', 'drink', 'assembl', 'throughout', 'scientif', 'postltbgtltfontgt', 'perfect', 'juri', 'edward', 'driven', 'didnt', 'citizen', 'suspens', 'social', 'resort', 'lay', 'fourthquart', 'cabil', 'annan', 'andr', 'toy', 'stroke', 'southeast', 'reelect', 'pirat', 'ny', 'intens', 'greenspan', 'freed', 'everyth', 'altern', 'wicket', 'vijay', 'thoma', 'supplier', 'sit', 'shipment', 'ril', 'respect', 'onto', 'difficult', 'wifi', 'redskin', 'offset', 'marsh', 'lie', 'leg', 'labour', 'fellow', 'either', 'columbia', 'theft', 'task', 'spring', 'revis', 'orlando', 'intent', 'door', 'disclos', 'class', 'burn', 'alsadr', 'trigger', 'stretch', 'newli', 'kofi', 'inch', 'brazilian', 'anyth', 'sexual', 'rich', 'regular', 'p', 'miner', 'longterm', 'lee', 'explain', 'usa', 'sunni', 'sex', 'movement', 'impress', 'era', 'embattl', 'assassin', 'revers', 'raven', 'pois', 'particip', 'jim', 'iranian', 'howev', 'equiti', 'consol', 'communist', 'cold', 'bat', 'aol', 'transfer', 'toshiba', 'taliban', 'reviv', 'infring', 'hp', 'heard', 'subsidiari', 'stronger', 'regard', 'pacer', 'lion', 'gymnast', 'erupt', 'zimbabw', 'typhoon', 'swiss', 'succeed', 'ride', 'respond', 'martha', 'grhic', 'colorgtltbgtth', 'ali', 'affair', 'sidelin', 'peacekeep', 'locat', 'guy', 'bigley', 'automak', 'advis', 'adam', 'util', 'rememb', 'plung', 'mae', 'foundat', 'fanni', 'core', 'convinc', 'conclud', 'astronom', 'virus', 'trend', 'squad', 'shrine', 'politician', 'brokerag', 'bolster', 'anyon', 'antonio', 'resist', 'regist', 'r', 'northeast', 'heavyweight', 'casino', 'syria', 'princ', 'ocean', 'obtain', 'matt', 'librari', 'infrastructur', 'tear', 'statu', 'schill', 'rome', 'quoti', 'postpon', 'notebook', 'languag', 'laden', 'laboratori', 'hewitt', 'deleg', 'bridg', 'blog', 'asid', 'abduct', 'uefa', 'spywar', 'scale', 'implement', 'hike', 'enjoy', 'compon', 'anniversari', 'wage', 'spirit', 'solar', 'retain', 'packer', 'monetari', 'lewi', 'jack', 'gordon', 'chechen', 'turkish', 'tree', 'subject', 'steadi', 'scene', 'samsung', 'reflect', 'pli', 'morgan', 'liber', 'l', 'knew', 'guid', 'forum', 'fierc', 'everyon', 'coup', 'circuit', 'child', 'bobbi', 'beta', 'vega', 'slump', 'osama', 'mistak', 'maria', 'kobe', 'ken', 'favorit', 'father', 'buyer', 'beckham', 'activist', 'trust', 'tabl', 'starter', 'silicon', 'piraci', 'nigerian', 'mosqu', 'lanka', 'ice', 'enhanc', 'argentina', 'andrew', 'type', 'tent', 'successor', 'mayor', 'jackson', 'ii', 'guerrilla', 'comeback', 'argu', 'wenger', 'vaccin', 'sometim', 'soft', 'recruit', 'oppos', 'label', 'complaint', 'bitter', 'bare', 'ankl', 'sustain', 'kidnper', 'infect', 'er', 'arthriti', 'stronghold', 'steroid', 'reliev', 'oversea', 'jeann', 'incid', 'frustrat', 'extrem', 'cannot', 'austria', 'actual', 'vs', 'optim', 'navi', 'landmark', 'headquart', 'evacu', 'enforc', 'detect', 'curb', 'clean', 'cbc', 'batter', 'strateg', 'pioneer', 'outsourc', 'netherland', 'easier', 'dope', 'curt', 'blockbust', 'arena', 'tourist', 'narrow', 'examin', 'editor', 'definit', 'chemic', 'cassini', 'acknowledg', 'vietnam', 'stephen', 'shopper', 'rooney', 'pearanc', 'letter', 'greatest', 'fair', 'contend', 'compens', 'steeler', 'shanghai', 'sack', 'remark', 'qaeda', 'presenc', 'pipelin', 'mclennan', 'malaysia', 'hors', 'highli', 'fouryear', 'ferguson', 'complex', 'colt', 'barcelona', 'adrian', 'relationship', 'mayb', 'deliveri', 'constitut', 'cant', 'sweden', 'prais', 'photogrh', 'mail', 'invas', 'fed', 'especi', 'wear', 'venezuela', 'understand', 'reader', 'miller', 'lowest', 'longawait', 'hassan', 'e', 'discoveri', 'crown', 'caribbean', 'bottom', 'b', 'aliv', 'seal', 'pursu', 'phoenix', 'margin', 'lleyton', 'jaguar', 'id', 'highlight', 'flow', 'convoy', 'church', 'carter', 'carl', 'arabia', 'vodafon', 'unpreced', 'ryan', 'multipl', 'ltpgtltpgtltpgt', 'ltop', 'bargain', 'band', 'antiviru', 'volum', 'telescop', 'shoulder', 'normal', 'lab', 'innov', 'indi', 'hamm', 'feet', 'famou', 'collabor', 'brain', 'bigger', 'bet', 'backup', 'tworun', 'tropic', 'sentiment', 'qualiti', 'pole', 'petroleum', 'oneyear', 'notic', 'lebanon', 'interior', 'function', 'freez', 'divid', 'condemn', 'bull', 'batteri', 'assur', 'twoyear', 'threegam', 'spammer', 'shown', 'showdown', 'secondlargest', 'restaur', 'repeat', 'playstat', 'mostli', 'maryland', 'ipo', 'felt', 'crush', 'brawl', 'theyr', 'startup', 'manmohan', 'jordan', 'flagship', 'fiveyear', 'fileshar', 'csule', 'contact', 'xbox', 'widespread', 'tumbl', 'trafford', 'sp', 'sight', 'sbc', 'sa', 'roundup', 'palm', 'opinion', 'ncaa', 'kmart', 'dog', 'dan', 'buri', 'bankrupt', 'aviat', 'unexpect', 'unemploy', 'spi', 'serena', 'plenti', 'philip', 'motorola', 'inaugur', 'im', 'gb', 'excit', 'clinic', 'blew', 'beslan', 'assess', 'amsterdam', 'accid', 'aboard', 'rid', 'overcom', 'object', 'margaret', 'liquid', 'isnt', 'hpen', 'firsthalf', 'detain', 'destruct', 'charlott', 'branch', 'valley', 'string', 'split', 'sear', 'religi', 'regulatori', 'oneday', 'nobel', 'monthli', 'flag', 'exclus', 'eventu', 'devil', 'ca', 'switzerland', 'spitzer', 'nortel', 'medicin', 'februari', 'daniel', 'brief', 'bloodi', 'ben', 'ancient', 'venu', 'tire', 'tank', 'spacecom', 'physic', 'overhaul', 'orang', 'inquiri', 'hail', 'golden', 'fate', 'exhibit', 'cowboy', 'counterpart', 'congo', 'chile', 'chad', 'bc', 'someon', 'restrict', 'phelp', 'mother', 'hpene', 'gasolin', 'color', 'cellular', 'briton', 'anthoni', 'allstar', 'allen', 'stall', 'simpli', 'sens', 'referendum', 'palac', 'northeastern', 'mosul', 'homeland', 'friendli', 'vast', 'unusu', 'triumph', 'rip', 'retreat', 'quick', 'nextgener', 'lineback', 'henri', 'gartner', 'fortun', 'consult', 'articl', 'agassi', 'acceler']\n"
     ]
    }
   ],
   "source": [
    "# this will create a vocabulary of the top 2500 words and then convert the text to a sequence of numbers\n",
    "vocab_size = 2500 # how many of the most frequent words to keep\n",
    "sequence_length = 30 # how many words we use to represent a description\n",
    "vectorizer = TextVectorization(max_tokens=vocab_size, output_sequence_length=sequence_length)\n",
    "# fit the vectorizer on the training data (find the most common words and assign values to them)\n",
    "vectorizer.adapt(train_data_list)\n",
    "# show the selected words\n",
    "print(vectorizer.get_vocabulary())"
   ]
  },
  {
   "cell_type": "code",
   "execution_count": 71,
   "metadata": {},
   "outputs": [
    {
     "name": "stdout",
     "output_type": "stream",
     "text": [
      "(96000, 30)\n"
     ]
    }
   ],
   "source": [
    "# vectorize the training data (replace words by their associated values)\n",
    "train_data_vectorized = vectorizer(train_data_list)\n",
    "# vectorize the validation data\n",
    "validation_data_vectorized = vectorizer(validation_data_list)\n",
    "# vectorize the test data\n",
    "test_data_vectorized = vectorizer(test_data_list)\n",
    "# this shape shows that we have our 96000 training examples, each as a vector of 30 integers\n",
    "print(train_data_vectorized.shape)"
   ]
  },
  {
   "cell_type": "code",
   "execution_count": 72,
   "metadata": {},
   "outputs": [
    {
     "name": "stdout",
     "output_type": "stream",
     "text": [
      "tf.Tensor(\n",
      "[1323  138    1   27   20 1945  225 1278  789  440   67    1    1 1278\n",
      "    1 2272  225  138  234   78    1 1868  748  866  414  225 1017    1\n",
      "  487 2140], shape=(30,), dtype=int64)\n"
     ]
    }
   ],
   "source": [
    "# see how a vectorized news description looks like\n",
    "print(train_data_vectorized[1])"
   ]
  },
  {
   "cell_type": "markdown",
   "metadata": {},
   "source": [
    "We then build a RNN.\n",
    "\n",
    "We use an *Embedding layer* to convert the integer sequences to embeddings. You can read about how this works [here](https://www.tensorflow.org/api_docs/python/tf/keras/layers/Embedding).\n",
    "\n",
    "The Bidirectional layer takes the input and passes it forwards and backwards through the LSTM (Long-Short Term Memory) layer. It allows the network to learn the context of the sentence in both directions, so information from both previous and following words is taken into account.\n"
   ]
  },
  {
   "cell_type": "code",
   "execution_count": 73,
   "metadata": {},
   "outputs": [
    {
     "name": "stdout",
     "output_type": "stream",
     "text": [
      "Model: \"sequential_2\"\n",
      "_________________________________________________________________\n",
      " Layer (type)                Output Shape              Param #   \n",
      "=================================================================\n",
      " embedding_2 (Embedding)     (None, None, 32)          80000     \n",
      "                                                                 \n",
      " bidirectional (Bidirection  (None, 64)                16640     \n",
      " al)                                                             \n",
      "                                                                 \n",
      " dense_4 (Dense)             (None, 4)                 260       \n",
      "                                                                 \n",
      "=================================================================\n",
      "Total params: 96900 (378.52 KB)\n",
      "Trainable params: 96900 (378.52 KB)\n",
      "Non-trainable params: 0 (0.00 Byte)\n",
      "_________________________________________________________________\n",
      "Epoch 1/5\n",
      "750/750 [==============================] - 32s 39ms/step - loss: 0.4870 - accuracy: 0.8283 - val_loss: 0.3340 - val_accuracy: 0.8843\n",
      "Epoch 2/5\n",
      "750/750 [==============================] - 29s 39ms/step - loss: 0.3131 - accuracy: 0.8919 - val_loss: 0.3240 - val_accuracy: 0.8857\n",
      "Epoch 3/5\n",
      "750/750 [==============================] - 23s 31ms/step - loss: 0.2939 - accuracy: 0.8969 - val_loss: 0.3160 - val_accuracy: 0.8901\n",
      "Epoch 4/5\n",
      "750/750 [==============================] - 27s 36ms/step - loss: 0.2816 - accuracy: 0.9008 - val_loss: 0.3218 - val_accuracy: 0.8853\n",
      "Epoch 5/5\n",
      "750/750 [==============================] - 24s 31ms/step - loss: 0.2710 - accuracy: 0.9047 - val_loss: 0.3185 - val_accuracy: 0.8885\n",
      "238/238 [==============================] - 2s 5ms/step\n",
      "Test Set Accuracy:  0.8822368421052632\n"
     ]
    },
    {
     "data": {
      "text/plain": [
       "<AxesSubplot:>"
      ]
     },
     "execution_count": 73,
     "metadata": {},
     "output_type": "execute_result"
    },
    {
     "data": {
      "image/png": "[encoded data removed]",
      "text/plain": [
       "<Figure size 720x504 with 2 Axes>"
      ]
     },
     "metadata": {
      "needs_background": "light"
     },
     "output_type": "display_data"
    }
   ],
   "source": [
    "model = Sequential()\n",
    "model.add(Embedding(vocab_size, 32))\n",
    "model.add(Bidirectional(LSTM(32)))\n",
    "model.add(Dense(4, activation=\"softmax\"))\n",
    "\n",
    "model.summary()\n",
    "\n",
    "# compile the model\n",
    "model.compile(loss=\"categorical_crossentropy\", optimizer=\"adam\", metrics=[\"accuracy\"])\n",
    "\n",
    "# fit the model\n",
    "# Train the model\n",
    "history = model.fit(\n",
    "    train_data_vectorized,\n",
    "    train_labels,\n",
    "    epochs=5,\n",
    "    batch_size=128,\n",
    "    verbose=1,\n",
    "    validation_data=(validation_data_vectorized, validation_labels),\n",
    ")\n",
    "\n",
    "\n",
    "# predict the labels on the test data\n",
    "rnn_predictions = model.predict(test_data_vectorized)\n",
    "# since predictions are one-hot encoded, we convert them to an int label taking the output with higher value\n",
    "rnn_predictions = np.argmax(rnn_predictions, axis=1)\n",
    "\n",
    "# calculate the accuracy score\n",
    "accuracy = accuracy_score(test_labels_list, rnn_predictions)\n",
    "print(\"Test Set Accuracy: \", accuracy)\n",
    "# create a confusion matrix\n",
    "cm = confusion_matrix(test_labels_list, rnn_predictions)\n",
    "# plot the confusion matrix\n",
    "plt.figure(figsize=(10, 7))\n",
    "sns.heatmap(cm, annot=True, fmt=\"d\", xticklabels=label_names, yticklabels=label_names)"
   ]
  },
  {
   "cell_type": "markdown",
   "metadata": {},
   "source": [
    "# TODO 3: Creating Example Predictions\n",
    "Test the model. Create some fresh sample news (copy them from a news site like BBC) then see if the model can predict the correct labels. Use one example per class.\n",
    "\n",
    "Also, find one example that gets misclassified and briefly discuss here why it might happen:"
   ]
  },
  {
   "cell_type": "code",
   "execution_count": 77,
   "metadata": {},
   "outputs": [
    {
     "name": "stdout",
     "output_type": "stream",
     "text": [
      "1/1 [==============================] - 0s 223ms/step\n",
      "Headline: ukrain war ukrain militari seek extra soldier presid zelenski ukrain militari want mobilis extra peopl presid volodymyr zelenski reveal war russia near twoyear mark news confer kyiv said command seek individu admit sensit costli issu said need detail back move hint soldier alreadi front\n",
      "Predicted Category: World\n",
      "\n",
      "Headline: liverpool west ham jurgen klopp critic atmospher arsen visit liverpool boss jurgen klopp told support right saturday topofthet premier leagu encount leader arsen give ticket someon els klopp whose side point behind gunner criticis anfield atmospher wednesday carabao cup quarterfin win west ham red gallop jointbiggest win season book twoleg lastfour encount fulham\n",
      "Predicted Category: Sports\n",
      "\n",
      "Headline: googl settl bn lawsuit privat mode track googl agre settl us lawsuit claim invad privaci user track even brows privat mode class action sought least bn bn world goto search engin parent compani alphabet larg technolog firm face increas scrutini practic us beyond lawyer repres googl user immedi respond request comment\n",
      "Predicted Category: Sci/Tech\n",
      "\n",
      "Headline: nasa beam cat video deep space laser nasa stream ultra highdefinit video cat back earth depth space second clip tater cat sent via laser fittingli show chase laser beam footag orang tabbi travel million mile time distanc earth moon\n",
      "Predicted Category: Sci/Tech\n",
      "\n",
      "Headline: first protest argentina milei auster plan thousand peopl taken street bueno air first big protest new argentin govern econom shock polici presid javier milei announc measur includ spend cut drastic currenc devalu also sign econom reform decre end limit export march led group repres unemploy polic deploy larg number stop protest block road\n",
      "Predicted Category: World\n",
      "\n",
      "Selected Headline for Analysis: first protest argentina milei auster plan thousand peopl taken street bueno air first big protest new argentin govern econom shock polici presid javier milei announc measur includ spend cut drastic currenc devalu also sign econom reform decre end limit export march led group repres unemploy polic deploy larg number stop protest block road\n",
      "Predicted Category: World\n",
      "Reason for Potential Misclassification: [Your analysis here based on the headline content and the predicted category]\n"
     ]
    }
   ],
   "source": [
    "import tensorflow as tf\n",
    "import numpy as np\n",
    "from tensorflow.keras.preprocessing.text import Tokenizer\n",
    "\n",
    "# Tokenization and padding\n",
    "vocab_size = 2500  \n",
    "tokenizer = Tokenizer(num_words=vocab_size, oov_token=\"<OOV>\")\n",
    "tokenizer.fit_on_texts(train_data[\"Description\"])\n",
    "\n",
    "\n",
    "# Define the news \n",
    "sample_news = [\n",
    "    \"Ukraine war: Ukraine military seeks extra 500,000 soldiers - President Zelensky: Ukraine's military wants to mobilise up to 500,000 extra people, President Volodymyr Zelensky has revealed, as the war with Russia nears a two-year mark. At a news conference in Kyiv, he said his commanders were seeking '450,000-500,000 individuals', admitting this was a 'sensitive' and costly issue. He said he needed more details before backing the move, hinting that 500,000 soldiers were already on the front.\",\n",
    "    \"Liverpool 5-1 West Ham: Jurgen Klopp critical of atmosphere before Arsenal visit: Liverpool boss Jurgen Klopp has told any supporter 'not in the right shape' for Saturday's top-of-the-table Premier League encounter with leaders Arsenal to give their ticket to someone else. Klopp - whose side are a point behind the Gunners - criticised the Anfield atmosphere during Wednesday's 5-1 Carabao Cup quarter-final win over West Ham. The Reds galloped to their joint-biggest win of the season to book a two-legged last-four encounter with Fulham.\",\n",
    "    \"Google settles $5bn lawsuit for 'private mode' tracking: Google has agreed to settle a US lawsuit claiming it invaded the privacy of users by tracking them even when they were browsing in 'private mode'. The class action sought at least $5bn (£3.9bn) from the world's go-to search engine and parent company Alphabet. Large technology firms have faced increased scrutiny of their practices in the US and beyond. Lawyers representing Google and its users did not immediately respond to the BBC's requests for comment.\",\n",
    "    \"Nasa beams cat video from deep space with laser: Nasa has streamed an ultra high-definition video of a cat back to Earth from the depths of space. The 15-second clip of Taters the cat was sent via laser - and fittingly shows it chasing a laser beam. Footage of the orange tabby travelled 19 million miles - some 80 times the distance from Earth to the Moon.\",\n",
    "    \"First protests in Argentina against Milei's austerity plan: Thousands of people have taken to the streets of Buenos Aires in the first big protest against the new Argentine government's economic shock policies. President Javier Milei announced measures that include spending cuts and a drastic currency devaluation. He also signed an economic reform decree that will end limits on exports. The march was led by groups that represent the unemployed. Police were deployed in large numbers to stop the protesters from blocking roads.\"\n",
    "]\n",
    "\n",
    "# Preprocess the sample news\n",
    "sample_news = [preprocess_text(i) for i in sample_news]\n",
    "sample_news = remove_stopwords(sample_news)\n",
    "\n",
    "# Stem the sample news (if stemming was part of your preprocessing)\n",
    "sample_news = [stem_text(i) for i in sample_news]\n",
    "\n",
    "# Vectorize the sample news\n",
    "sample_news_vectorized = vectorizer(tf.convert_to_tensor(sample_news))\n",
    "\n",
    "# Predict using the model\n",
    "sample_predictions = model.predict(sample_news_vectorized)\n",
    "sample_predictions = np.argmax(sample_predictions, axis=1)\n",
    "\n",
    "# Print predictions with labels\n",
    "for headline, category in zip(sample_news, sample_predictions):\n",
    "    print(f\"Headline: {headline}\\nPredicted Category: {label_names[category]}\\n\")\n",
    "\n",
    "\n",
    "# Tokenize and pad the headlines\n",
    "#tokenized_headlines = tokenizer.texts_to_sequences(preprocessed_headlines)\n",
    "#padded_headlines = tf.keras.preprocessing.sequence.pad_sequences(tokenized_headlines, maxlen=200)\n",
    "\n",
    "\n",
    "# Analyze the potentially misclassified headline about Argentine protests\n",
    "argentina_protest_headline = sample_news[-1]\n",
    "argentina_protest_prediction = label_names[sample_predictions[-1]]\n",
    "\n",
    "print(f\"Selected Headline for Analysis: {argentina_protest_headline}\")\n",
    "print(f\"Predicted Category: {argentina_protest_prediction}\")\n",
    "print(\"Reason for Potential Misclassification: [Your analysis here based on the headline content and the predicted category]\")"
   ]
  },
  {
   "cell_type": "markdown",
   "metadata": {},
   "source": [
    "## TODO 4: Create a new model\n",
    "Try to improve the RNN model, of implement a CNN (with 1D convolution layers), that beats the baseline RNN"
   ]
  },
  {
   "cell_type": "code",
   "execution_count": 75,
   "metadata": {},
   "outputs": [
    {
     "name": "stdout",
     "output_type": "stream",
     "text": [
      "Model: \"sequential\"\n",
      "_________________________________________________________________\n",
      " Layer (type)                Output Shape              Param #   \n",
      "=================================================================\n",
      " embedding (Embedding)       (None, 200, 16)           80000     \n",
      "                                                                 \n",
      " conv1d (Conv1D)             (None, 196, 128)          10368     \n",
      "                                                                 \n",
      " global_max_pooling1d (Glob  (None, 128)               0         \n",
      " alMaxPooling1D)                                                 \n",
      "                                                                 \n",
      " dense (Dense)               (None, 10)                1290      \n",
      "                                                                 \n",
      " dense_1 (Dense)             (None, 4)                 44        \n",
      "                                                                 \n",
      "=================================================================\n",
      "Total params: 91702 (358.21 KB)\n",
      "Trainable params: 91702 (358.21 KB)\n",
      "Non-trainable params: 0 (0.00 Byte)\n",
      "_________________________________________________________________\n"
     ]
    }
   ],
   "source": [
    "# TODO 4: YOUR CODE HERE\n",
    "import tensorflow as tf\n",
    "from tensorflow.keras.preprocessing.text import Tokenizer\n",
    "from tensorflow.keras.preprocessing.sequence import pad_sequences\n",
    "from tensorflow.keras.models import Sequential\n",
    "from tensorflow.keras.layers import Embedding, LSTM, Bidirectional, Dense\n",
    "from sklearn.model_selection import train_test_split\n",
    "from sklearn.metrics import classification_report, accuracy_score, confusion_matrix\n",
    "\n",
    "\n",
    "# Tokenization and padding\n",
    "tokenizer = Tokenizer(num_words=5000, oov_token=\"<OOV>\")\n",
    "tokenizer.fit_on_texts(train_data[\"Description\"])\n",
    "\n",
    "\n",
    "# Prepare the sequences\n",
    "train_sequences = tokenizer.texts_to_sequences(train_data[\"Description\"])\n",
    "train_padded = pad_sequences(train_sequences, maxlen=200)\n",
    "\n",
    "test_sequences = tokenizer.texts_to_sequences(test_data[\"Description\"])\n",
    "test_padded = pad_sequences(test_sequences, maxlen=200)\n",
    "\n",
    "# Clearing previous model from the session\n",
    "tf.keras.backend.clear_session()\n",
    "\n",
    "# Original CNN model architecture\n",
    "cnn_model = Sequential([\n",
    "    Embedding(5000, 16, input_length=200),\n",
    "    Conv1D(128, 5, activation='relu'),\n",
    "    GlobalMaxPooling1D(),\n",
    "    Dense(10, activation='relu'),\n",
    "    Dense(4, activation='softmax')\n",
    "])\n",
    "\n",
    "# Compile the original CNN model\n",
    "cnn_model.compile(loss='sparse_categorical_crossentropy', optimizer='adam', metrics=['accuracy'])\n",
    "cnn_model.summary()\n",
    "\n"
   ]
  },
  {
   "cell_type": "code",
   "execution_count": 76,
   "metadata": {},
   "outputs": [
    {
     "name": "stdout",
     "output_type": "stream",
     "text": [
      "Model: \"sequential_1\"\n",
      "_________________________________________________________________\n",
      " Layer (type)                Output Shape              Param #   \n",
      "=================================================================\n",
      " embedding_1 (Embedding)     (None, 200, 16)           80000     \n",
      "                                                                 \n",
      " conv1d_1 (Conv1D)           (None, 196, 128)          10368     \n",
      "                                                                 \n",
      " global_max_pooling1d_1 (Gl  (None, 128)               0         \n",
      " obalMaxPooling1D)                                               \n",
      "                                                                 \n",
      " dense_2 (Dense)             (None, 10)                1290      \n",
      "                                                                 \n",
      " dense_3 (Dense)             (None, 4)                 44        \n",
      "                                                                 \n",
      "=================================================================\n",
      "Total params: 91702 (358.21 KB)\n",
      "Trainable params: 91702 (358.21 KB)\n",
      "Non-trainable params: 0 (0.00 Byte)\n",
      "_________________________________________________________________\n",
      "Epoch 1/10\n",
      "3375/3375 [==============================] - 57s 17ms/step - loss: 0.4012 - accuracy: 0.8586 - val_loss: 0.3176 - val_accuracy: 0.8865\n",
      "Epoch 2/10\n",
      "3375/3375 [==============================] - 56s 17ms/step - loss: 0.2728 - accuracy: 0.9058 - val_loss: 0.3102 - val_accuracy: 0.8913\n",
      "Epoch 3/10\n",
      "3375/3375 [==============================] - 55s 16ms/step - loss: 0.2378 - accuracy: 0.9181 - val_loss: 0.3332 - val_accuracy: 0.8842\n",
      "Epoch 4/10\n",
      "3375/3375 [==============================] - 53s 16ms/step - loss: 0.2037 - accuracy: 0.9293 - val_loss: 0.3463 - val_accuracy: 0.8859\n",
      "Epoch 5/10\n",
      "3375/3375 [==============================] - 59s 17ms/step - loss: 0.1687 - accuracy: 0.9414 - val_loss: 0.3795 - val_accuracy: 0.8750\n",
      "Epoch 6/10\n",
      "3375/3375 [==============================] - 60s 18ms/step - loss: 0.1364 - accuracy: 0.9524 - val_loss: 0.4329 - val_accuracy: 0.8753\n",
      "Epoch 7/10\n",
      "3375/3375 [==============================] - 50s 15ms/step - loss: 0.1093 - accuracy: 0.9614 - val_loss: 0.4740 - val_accuracy: 0.8743\n",
      "Epoch 8/10\n",
      "3375/3375 [==============================] - 53s 16ms/step - loss: 0.0877 - accuracy: 0.9689 - val_loss: 0.5416 - val_accuracy: 0.8733\n",
      "Epoch 9/10\n",
      "3375/3375 [==============================] - 55s 16ms/step - loss: 0.0727 - accuracy: 0.9739 - val_loss: 0.5862 - val_accuracy: 0.8692\n",
      "Epoch 10/10\n",
      "3375/3375 [==============================] - 57s 17ms/step - loss: 0.0618 - accuracy: 0.9778 - val_loss: 0.6775 - val_accuracy: 0.8662\n"
     ]
    }
   ],
   "source": [
    "from tensorflow.keras.layers import Conv1D, GlobalMaxPooling1D\n",
    "\n",
    "# CNN model\n",
    "cnn_model = Sequential([\n",
    "    Embedding(5000, 16, input_length=200),\n",
    "    Conv1D(128, 5, activation='relu'),\n",
    "    GlobalMaxPooling1D(),\n",
    "    Dense(10, activation='relu'),\n",
    "    Dense(4, activation='softmax')\n",
    "])\n",
    "\n",
    "cnn_model.compile(loss='sparse_categorical_crossentropy', optimizer='adam', metrics=['accuracy'])\n",
    "cnn_model.summary()\n",
    "\n",
    "# Train CNN model\n",
    "cnn_history = cnn_model.fit(train_padded, train_data[\"Class Index\"], epochs=10, validation_split=0.1)\n"
   ]
  },
  {
   "cell_type": "markdown",
   "metadata": {},
   "source": [
    "--- \n",
    "\n",
    "This cell goes to the very bottom of your submitted notebok.\n",
    "You are requried to link the sources and web-links that you have used for various parts of this coursework. \n",
    "\n",
    "Write them sources used in the following format similar to the first examle in the sources list below :\n",
    "\n",
    "    - what you have used them for : web-link\n",
    "\n",
    "Sources:\n",
    "\n",
    "- Implement a recurrent neural network : https://peterroelants.github.io/posts/rnn-implementation-part01/"
   ]
  }
 ],
 "metadata": {
  "kernelspec": {
   "display_name": "Python 3 (ipykernel)",
   "language": "python",
   "name": "python3"
  },
  "language_info": {
   "codemirror_mode": {
    "name": "ipython",
    "version": 3
   },
   "file_extension": ".py",
   "mimetype": "text/x-python",
   "name": "python",
   "nbconvert_exporter": "python",
   "pygments_lexer": "ipython3",
   "version": "3.9.7"
  },
  "vscode": {
   "interpreter": {
    "hash": "977335c72b126e3991b9de8b6fc74c7a8bf9097191ab51ecd2769bb8eacdf950"
   }
  }
 },
 "nbformat": 4,
 "nbformat_minor": 2
}
